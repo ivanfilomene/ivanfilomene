{
 "cells": [
  {
   "cell_type": "code",
   "execution_count": 1,
   "id": "3a02ba1d",
   "metadata": {},
   "outputs": [],
   "source": [
    "from pathlib import Path\n",
    "from dotenv import load_dotenv\n",
    "import xlrd\n",
    "import os\n",
    "from sqlalchemy.engine import create_engine\n",
    "from sqlalchemy.exc import SQLAlchemyError\n",
    "import cx_Oracle\n",
    "import pandas as pd\n",
    "env_path = Path('C:/Users/xxx/xxx/Location') / 'credentials/pp.env'\n",
    "load_dotenv(dotenv_path=env_path)\n",
    "\n",
    "from jinjasql import JinjaSql\n",
    "j = JinjaSql(param_style='pyformat')"
   ]
  },
  {
   "cell_type": "code",
   "execution_count": 2,
   "id": "cdaaf36a",
   "metadata": {},
   "outputs": [],
   "source": [
    "def get_oracle_conn():\n",
    "    DIALECT = 'oracle'\n",
    "    SQL_DRIVER = 'cx_oracle'\n",
    "    USERNAME = os.environ.get('QSP_ORACLE_USER') #enter your username\n",
    "    PASSWORD = os.environ.get('QSP_ORACLE_PWD') #enter your password\n",
    "    HOST = os.environ.get('QSP_ORACLE_HOST') #enter the oracle db host url\n",
    "    PORT = os.environ.get('QSP_ORACLE_PORT') # enter the oracle port number\n",
    "    SERVICE = os.environ.get('QSP_ORACLE_SERVICE') # enter the oracle db service name\n",
    "    ENGINE_PATH_WIN_AUTH = DIALECT + '+' + SQL_DRIVER + '://' + USERNAME + ':' + PASSWORD +'@' + HOST + ':' + str(PORT) + '/?service_name=' + SERVICE\n",
    "    \n",
    "    return ENGINE_PATH_WIN_AUTH, cx_Oracle.connect(user=USERNAME, password=PASSWORD,dsn=f\"{HOST}/{SERVICE}\")"
   ]
  },
  {
   "cell_type": "code",
   "execution_count": 4,
   "id": "bf3515cb",
   "metadata": {},
   "outputs": [],
   "source": [
    "#conn_string, connection = get_oracle_conn()\n",
    "#print(os.environ.get('QSP_ORACLE_USER'))\n",
    "#print(os.environ.get('QSP_ORACLE_PWD'))\n",
    "#print(os.environ.get('QSP_ORACLE_HOST'))\n",
    "#print(os.environ.get('QSP_ORACLE_PORT'))\n",
    "#print(os.environ.get('QSP_ORACLE_SERVICE'))\n",
    "#print(conn_string)\n",
    "#print(connection)"
   ]
  },
  {
   "cell_type": "code",
   "execution_count": 5,
   "id": "1835ba9b",
   "metadata": {},
   "outputs": [],
   "source": [
    "conn_string, connection = get_oracle_conn()"
   ]
  },
  {
   "cell_type": "code",
   "execution_count": 51,
   "id": "9a869168",
   "metadata": {},
   "outputs": [],
   "source": [
    "def get_excel_values(file_name, path=Path('C:/Users/xxx/xxx/Location/')):\n",
    "    df = pd.read_excel(path / file_name, sheet_name=0)   \n",
    "    return df"
   ]
  },
  {
   "cell_type": "code",
   "execution_count": 52,
   "id": "45d1c26a",
   "metadata": {},
   "outputs": [],
   "source": [
    "data = get_excel_values('UPDATE_parm_geo_planet.xlsx')"
   ]
  },
  {
   "cell_type": "code",
   "execution_count": 53,
   "id": "e634598f",
   "metadata": {},
   "outputs": [
    {
     "data": {
      "text/plain": [
       "(12538, 3)"
      ]
     },
     "execution_count": 53,
     "metadata": {},
     "output_type": "execute_result"
    }
   ],
   "source": [
    "data.shape"
   ]
  },
  {
   "cell_type": "code",
   "execution_count": 54,
   "id": "6955424d",
   "metadata": {
    "scrolled": true
   },
   "outputs": [
    {
     "data": {
      "text/html": [
       "<div>\n",
       "<style scoped>\n",
       "    .dataframe tbody tr th:only-of-type {\n",
       "        vertical-align: middle;\n",
       "    }\n",
       "\n",
       "    .dataframe tbody tr th {\n",
       "        vertical-align: top;\n",
       "    }\n",
       "\n",
       "    .dataframe thead th {\n",
       "        text-align: right;\n",
       "    }\n",
       "</style>\n",
       "<table border=\"1\" class=\"dataframe\">\n",
       "  <thead>\n",
       "    <tr style=\"text-align: right;\">\n",
       "      <th></th>\n",
       "      <th>ID</th>\n",
       "      <th>CURRENT_NAME</th>\n",
       "      <th>NEW_NAME</th>\n",
       "    </tr>\n",
       "  </thead>\n",
       "  <tbody>\n",
       "    <tr>\n",
       "      <th>0</th>\n",
       "      <td>12624108</td>\n",
       "      <td>Gemeinde Murrhardt</td>\n",
       "      <td>Murrhardt</td>\n",
       "    </tr>\n",
       "    <tr>\n",
       "      <th>1</th>\n",
       "      <td>12623114</td>\n",
       "      <td>Gemeinde Hemau</td>\n",
       "      <td>Hemau</td>\n",
       "    </tr>\n",
       "  </tbody>\n",
       "</table>\n",
       "</div>"
      ],
      "text/plain": [
       "         ID        CURRENT_NAME   NEW_NAME\n",
       "0  12624108  Gemeinde Murrhardt  Murrhardt\n",
       "1  12623114      Gemeinde Hemau      Hemau"
      ]
     },
     "execution_count": 54,
     "metadata": {},
     "output_type": "execute_result"
    }
   ],
   "source": [
    "data.head(2)"
   ]
  },
  {
   "cell_type": "code",
   "execution_count": 55,
   "id": "317a8f7f",
   "metadata": {},
   "outputs": [
    {
     "name": "stdout",
     "output_type": "stream",
     "text": [
      "           ID           CURRENT_NAME      NEW_NAME\n",
      "100  12623747  Gemeinde Eberhardzell  Eberhardzell\n"
     ]
    }
   ],
   "source": [
    "print(data[data['ID']==12623747])"
   ]
  },
  {
   "cell_type": "code",
   "execution_count": 56,
   "id": "0696e689",
   "metadata": {},
   "outputs": [],
   "source": [
    "filtered_data = data[data['ID'] ==12623747]"
   ]
  },
  {
   "cell_type": "code",
   "execution_count": 57,
   "id": "d2cdfbd3",
   "metadata": {},
   "outputs": [
    {
     "data": {
      "text/plain": [
       "(1, 3)"
      ]
     },
     "execution_count": 57,
     "metadata": {},
     "output_type": "execute_result"
    }
   ],
   "source": [
    "filtered_data.shape\n"
   ]
  },
  {
   "cell_type": "code",
   "execution_count": 58,
   "id": "b1c298ec",
   "metadata": {},
   "outputs": [],
   "source": [
    "data = get_excel_values('UPDATE_parm_geo_planet.xlsx')\n",
    "filtered_data = data[data['ID'] ==12623747]"
   ]
  },
  {
   "cell_type": "code",
   "execution_count": 59,
   "id": "f918611d",
   "metadata": {},
   "outputs": [],
   "source": [
    "conn_string, connection = get_oracle_conn()"
   ]
  },
  {
   "cell_type": "code",
   "execution_count": 46,
   "id": "8838b6f2",
   "metadata": {},
   "outputs": [
    {
     "name": "stdout",
     "output_type": "stream",
     "text": [
      "update AIDATAUSER.PARM_GEO_PLANET set name = 'Eberhardzell' where id = '12623747'\n",
      "      \n",
      "INSERT INTO AIDATAUSER.GENERAL_HISTORY  (SOURCE_ID,HISTORY_TYPE,HISTORY_WHEN,HISTORY_WHO,HISTORY_ACTION,COMMENTS,CREATE_TIME,UPDATE_TIME,ID,OBJECT_DATA,ACTION_SOURCE,ACTOR_ID,ACTOR_TYPE) \n",
      "                     VALUES (12623747,'GEO_UPDATE',systimestamp,'jitesh.pillai','Update location','{\"objBefore\":\"{\"id\":\"12623747\",\"name\":\"Gemeinde Eberhardzell\",\"iso\":\"DE\",\"parent_id\":\"12596779\",\"place_type\":\"City\",\"provice_id\":\"2345481\",\"county_id\":\"12596779\",\"country_id\":\"23424829\",\"continent_id\":\"24865675\",\"parent_name\":\"Landkreis Biberach\",\"province_name\":\"Baden-Wurttemberg\",\"country_name\":\"Germany\",\"continent_name\":\"Europe\"},\"objAfter\":\"{\"id\":\"12623747\",\"name\":\"Eberhardzell\",\"iso\":\"DE\",\"parent_id\":\"12596779\",\"place_type\":\"City\",\"provice_id\":\"2345481\",\"county_id\":\"12596779\",\"country_id\":\"23424829\",\"continent_id\":\"24865675\",\"parent_name\":\"Landkreis Biberach\",\"province_name\":\"Baden-Wurttemberg\",\"country_name\":\"Germany\",\"continent_name\":\"Europe\"}\"}',systimestamp,systimestamp,NULL,NULL,NULL,NULL,NULL)\n",
      "    \n"
     ]
    }
   ],
   "source": [
    "for index, row in filtered_data.iterrows():\n",
    "    params = {\n",
    "        'id': row['ID'], 'new_name':row['NEW_NAME']   \n",
    "          }  \n",
    "    update_geo_planet = '''update AIDATAUSER.PARM_GEO_PLANET set name = '{{new_name}}' where id = '{{id}}'\n",
    "      '''\n",
    "    query, bind_params = j.prepare_query(update_geo_planet, params)\n",
    "    sql_update_parm_geo_planet = query % bind_params\n",
    "    print(sql_update_parm_geo_planet)\n",
    "        \n",
    "  \n",
    "    script_get_comments = '''select '{\"objBefore\":\"{\\\"id\\\":\\\"'||pgp.id||'\\\",\\\"name\\\":\\\"'||pgp.name||'\\\",\\\"iso\\\":\\\"'||pgp.iso||'\\\",\\\"parent_id\\\":\\\"'||pgp.parentid||'\\\",\\\"place_type\\\":\\\"'||pgp.placetype||'\\\",\\\"provice_id\\\":\\\"'||pgp.provinceid||\n",
    "           '\\\",\\\"county_id\\\":\\\"'||pgp.countyid||'\\\",\\\"country_id\\\":\\\"'||pgp.countryid||'\\\",\\\"continent_id\\\":\\\"'||pgp.continentid||'\\\",\\\"parent_name\\\":\\\"'||parnt.name||'\\\",\\\"province_name\\\":\\\"'||province.name||\n",
    "           '\\\",\\\"country_name\\\":\\\"'||country.name||'\\\",\\\"continent_name\\\":\\\"'||continent.name||'\"},\"objAfter\":\"{\\\"id\\\":\\\"'||pgp.id||'\\\",\\\"name\\\":\\\"{{new_name}}\\\",\\\"iso\\\":\\\"'||pgp.iso||'\\\",\\\"parent_id\\\":\\\"'||pgp.parentid||'\\\",\\\"place_type\\\":\\\"'||pgp.placetype||'\\\",\\\"provice_id\\\":\\\"'||pgp.provinceid|| \n",
    "           '\\\",\\\"county_id\\\":\\\"'||pgp.countyid||'\\\",\\\"country_id\\\":\\\"'||pgp.countryid||'\\\",\\\"continent_id\\\":\\\"'||pgp.continentid||'\\\",\\\"parent_name\\\":\\\"'||parnt.name||'\\\",\\\"province_name\\\":\\\"'||province.name||\n",
    "           '\\\",\\\"country_name\\\":\\\"'||country.name||'\\\",\\\"continent_name\\\":\\\"'||continent.name||'\"}\"}'  as comments      \n",
    "           from aidatauser.parm_geo_planet pgp\n",
    "        left join aidatauser.parm_geo_planet parnt on pgp.parentid = parnt.id\n",
    "        left join aidatauser.parm_geo_planet province on pgp.provinceid = province.id\n",
    "        left join aidatauser.parm_geo_planet country on pgp.countryid = country.id\n",
    "        left join aidatauser.parm_geo_planet continent on pgp.continentid = continent.id\n",
    "        where pgp.id = {{id}}\n",
    "        '''\n",
    "    query, bind_params = j.prepare_query(script_get_comments, params)\n",
    "    #print(query % bind_params)\n",
    "    \n",
    "    sql_get_comments = query % bind_params\n",
    "    \n",
    "    cur = connection.cursor()\n",
    "    cur.execute(sql_get_comments)\n",
    "    ans = cur.fetchall()\n",
    "    for comments in ans:\n",
    "        #print(comments[0])\n",
    "        v_comment = comments[0]\n",
    "    \n",
    "    params_comment = {\n",
    "        'id': row['ID'],\n",
    "        'comment': v_comment  \n",
    "          } \n",
    "    \n",
    "    insert_general_history = '''INSERT INTO AIDATAUSER.GENERAL_HISTORY  (SOURCE_ID,HISTORY_TYPE,HISTORY_WHEN,HISTORY_WHO,HISTORY_ACTION,COMMENTS,CREATE_TIME,UPDATE_TIME,ID,OBJECT_DATA,ACTION_SOURCE,ACTOR_ID,ACTOR_TYPE) \n",
    "                     VALUES ({{id}},'GEO_UPDATE',systimestamp,'jitesh.pillai','Update location','{{comment}}',systimestamp,systimestamp,NULL,NULL,NULL,NULL,NULL)\n",
    "    '''\n",
    "    query, bind_params = j.prepare_query(insert_general_history, params_comment)\n",
    "    sql_insert_general_history = query % bind_params\n",
    "    print(sql_insert_general_history) \n",
    "   \n",
    "    ## Execute final scripts update parm_geo_planet and insert general_history then apply commit\n",
    "    #print(sql_update_parm_geo_planet)\n",
    "    cursor = connection.cursor()    \n",
    "    cursor.execute(sql_update_parm_geo_planet)\n",
    "    cursor.execute(sql_insert_general_history)\n",
    "    ans = cur.fetchall()\n",
    "    connection.commit()\n",
    "    cursor.close()\n",
    "    "
   ]
  },
  {
   "cell_type": "code",
   "execution_count": null,
   "id": "ed7842f7",
   "metadata": {},
   "outputs": [],
   "source": []
  }
 ],
 "metadata": {
  "kernelspec": {
   "display_name": "Python 3 (ipykernel)",
   "language": "python",
   "name": "python3"
  },
  "language_info": {
   "codemirror_mode": {
    "name": "ipython",
    "version": 3
   },
   "file_extension": ".py",
   "mimetype": "text/x-python",
   "name": "python",
   "nbconvert_exporter": "python",
   "pygments_lexer": "ipython3",
   "version": "3.9.12"
  }
 },
 "nbformat": 4,
 "nbformat_minor": 5
}
