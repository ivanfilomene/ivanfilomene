{
 "cells": [
  {
   "cell_type": "code",
   "execution_count": 182,
   "id": "ebf9c37d",
   "metadata": {},
   "outputs": [
    {
     "name": "stdout",
     "output_type": "stream",
     "text": [
      "Python 3.9.12\n"
     ]
    }
   ],
   "source": [
    "import pandas as pd\n",
    "import json\n",
    "import requests\n",
    "from tqdm import tqdm\n",
    "from datetime import datetime\n",
    "df = pd.read_excel('20221011_upload_pessoa_not_mapped.xlsx',sheet_name=\"Import\", converters={'PHONE_IBD':str})\n",
    "# Convert Phone number to valid value \n",
    "df['PHONE_IBD'] = df['PHONE_IBD'].str.replace('\\+55','55-',n=2,regex=True)\n",
    "#print(df['PHONE_IBD'])\n",
    "!python -V"
   ]
  },
  {
   "cell_type": "code",
   "execution_count": 183,
   "id": "606df9c7",
   "metadata": {},
   "outputs": [
    {
     "data": {
      "text/html": [
       "<div>\n",
       "<style scoped>\n",
       "    .dataframe tbody tr th:only-of-type {\n",
       "        vertical-align: middle;\n",
       "    }\n",
       "\n",
       "    .dataframe tbody tr th {\n",
       "        vertical-align: top;\n",
       "    }\n",
       "\n",
       "    .dataframe thead th {\n",
       "        text-align: right;\n",
       "    }\n",
       "</style>\n",
       "<table border=\"1\" class=\"dataframe\">\n",
       "  <thead>\n",
       "    <tr style=\"text-align: right;\">\n",
       "      <th></th>\n",
       "      <th>externalId</th>\n",
       "      <th>companyName</th>\n",
       "      <th>marketingClientId</th>\n",
       "      <th>parentClientId</th>\n",
       "      <th>login</th>\n",
       "      <th>password</th>\n",
       "      <th>industry</th>\n",
       "      <th>accountManager</th>\n",
       "      <th>accountStatus</th>\n",
       "      <th>businessUnit</th>\n",
       "      <th>...</th>\n",
       "      <th>cityCode</th>\n",
       "      <th>districtCode</th>\n",
       "      <th>streetType</th>\n",
       "      <th>acquisition</th>\n",
       "      <th>district</th>\n",
       "      <th>streetName</th>\n",
       "      <th>houseNumber</th>\n",
       "      <th>TAX_SITUATION</th>\n",
       "      <th>VAT_NUMBER</th>\n",
       "      <th>FEDERAL_TAX_ID</th>\n",
       "    </tr>\n",
       "  </thead>\n",
       "  <tbody>\n",
       "    <tr>\n",
       "      <th>0</th>\n",
       "      <td>26</td>\n",
       "      <td>Fazenda Amway Nutrilite do Brasil Ltda</td>\n",
       "      <td>None</td>\n",
       "      <td>None</td>\n",
       "      <td>ibd_fazenda_amway_nutrilite_do_brasil_ltda</td>\n",
       "      <td>None</td>\n",
       "      <td>Other</td>\n",
       "      <td></td>\n",
       "      <td>Active</td>\n",
       "      <td>IBD</td>\n",
       "      <td>...</td>\n",
       "      <td>1461.0</td>\n",
       "      <td>None</td>\n",
       "      <td>None</td>\n",
       "      <td>None</td>\n",
       "      <td>Zona Rural</td>\n",
       "      <td>26</td>\n",
       "      <td>S/N</td>\n",
       "      <td>CNPJ</td>\n",
       "      <td>02.038.405.0001-44</td>\n",
       "      <td>06.668.572-8</td>\n",
       "    </tr>\n",
       "    <tr>\n",
       "      <th>1</th>\n",
       "      <td>89</td>\n",
       "      <td>Companhia Cacique de Café Solúvel</td>\n",
       "      <td>None</td>\n",
       "      <td>None</td>\n",
       "      <td>ibd_companhia_cacique_de_cafe_soluvel</td>\n",
       "      <td>None</td>\n",
       "      <td>Other</td>\n",
       "      <td></td>\n",
       "      <td>Active</td>\n",
       "      <td>IBD</td>\n",
       "      <td>...</td>\n",
       "      <td>3149.0</td>\n",
       "      <td>None</td>\n",
       "      <td>None</td>\n",
       "      <td>None</td>\n",
       "      <td>Pq Indl Cacique</td>\n",
       "      <td>26</td>\n",
       "      <td>100</td>\n",
       "      <td>CNPJ</td>\n",
       "      <td>78.588.415/0001-15</td>\n",
       "      <td>60.102.504-37</td>\n",
       "    </tr>\n",
       "  </tbody>\n",
       "</table>\n",
       "<p>2 rows × 42 columns</p>\n",
       "</div>"
      ],
      "text/plain": [
       "   externalId                             companyName marketingClientId  \\\n",
       "0          26  Fazenda Amway Nutrilite do Brasil Ltda              None   \n",
       "1          89       Companhia Cacique de Café Solúvel              None   \n",
       "\n",
       "  parentClientId                                       login password  \\\n",
       "0           None  ibd_fazenda_amway_nutrilite_do_brasil_ltda     None   \n",
       "1           None       ibd_companhia_cacique_de_cafe_soluvel     None   \n",
       "\n",
       "  industry accountManager accountStatus businessUnit  ... cityCode  \\\n",
       "0    Other                       Active          IBD  ...   1461.0   \n",
       "1    Other                       Active          IBD  ...   3149.0   \n",
       "\n",
       "  districtCode streetType acquisition         district streetName houseNumber  \\\n",
       "0         None       None        None       Zona Rural         26         S/N   \n",
       "1         None       None        None  Pq Indl Cacique         26         100   \n",
       "\n",
       "  TAX_SITUATION          VAT_NUMBER FEDERAL_TAX_ID  \n",
       "0          CNPJ  02.038.405.0001-44   06.668.572-8  \n",
       "1          CNPJ  78.588.415/0001-15  60.102.504-37  \n",
       "\n",
       "[2 rows x 42 columns]"
      ]
     },
     "execution_count": 183,
     "metadata": {},
     "output_type": "execute_result"
    }
   ],
   "source": [
    "#df['externalId'] = \"\"  # if no id provided  API will generate\n",
    "df['marketingClientId']=None  # for confirmation\n",
    "df['parentClientId']=None     # for confirmation\n",
    "df['password']=None           # for confirmation\n",
    "df['industry']=\"Other\"        # for confirmation\n",
    "df['accountManager']=\"\"       # for confirmation\n",
    "df['accountStatus']=\"Active\"\n",
    "df['businessUnit']=\"IBD\"  # for confirmation\n",
    "df['leadType']=\"New\"      # for confirmation\n",
    "df['inspectionPotentialTO']=\"200\"  # for confirmation\n",
    "df['auditPotentialTO']=\"100\"    # for confirmation\n",
    "df['labTestPotentialTO']=\"400\"  # for confirmation\n",
    "df['saberPotentialTO']=\"300\"    # for confirmation\n",
    "df['comments']=None    # for confirmation\n",
    "df['altEmail']=None    # for confirmation\n",
    "df['accountingEmail']=None\n",
    "df['salutation']=None    # for confirmation\n",
    "df['jobTitle']=\"Manager\"      # for confirmation (Mandatory)  use Manager by default\n",
    "df['keyAccount']=False   # for confirmation\n",
    "df['unitNumber']=None    # for confirmation\n",
    "df['municipality']=None  # for confirmation\n",
    "df['districtCode']=None  # for confirmation\n",
    "df['streetType']=None    # for confirmation\n",
    "df['acquisition']=None   # for confirmation\n",
    "\n",
    "#streetName = STREET_IBD  available value is number\n",
    "\n",
    "\n",
    "renamed_df = df.rename(columns = {\"EXTERNAL_COMPANY_ID_IBD\":\"externalId\"\n",
    "                                  ,\"FIRSTNAME_IBD\":\"firstName\"\n",
    "                                  ,\"LASTNAME_IBD\":\"lastName\"\n",
    "                                  ,\"EMAIL\":\"email\"\n",
    "                                  ,\"COMPANYNAME_IBD\":\"companyName\"\n",
    "                                  ,\"PHONE_IBD\":\"phoneNumber\"\n",
    "                                  ,\"COUNTRY_IBD\":\"country\"\n",
    "                                  ,\"ADDRESS_IBD\":\"address\"\n",
    "                                  ,\"ZIP_IBD\":\"postCode\"\n",
    "                                  ,\"LOGIN\":\"login\"\n",
    "                                  ,\"STATE_CODE\":\"state\"\n",
    "                                  ,\"CITY_IBD\":\"city\"\n",
    "                                  ,\"CITY_CODE\":\"cityCode\"\n",
    "                                  ,\"STATE_NAME\":\"stateInLocal\"\n",
    "                                  ,\"COMPANY_SHORT_NAME_IBD\":\"companyNameInLocal\"\n",
    "                                  ,\"HOUSE_NUMBER_IBD\":\"houseNumber\"\n",
    "                                  ,\"DISTRICT_IBD\":\"district\"\n",
    "                                  ,\"STREET_IBD\":\"streetName\"\n",
    "                                  ,\"TAX_SITUATION_IBD\":\"TAX_SITUATION\"\n",
    "                                  ,\"TAX_NUMBER_IBD\":\"VAT_NUMBER\"\n",
    "                                  ,\"STATE_TAX_ID_IBD\":\"FEDERAL_TAX_ID\"})\n",
    "\n",
    "arranged_renamed_df = renamed_df[['externalId'\n",
    "                                  ,'companyName'\n",
    "                                  ,'marketingClientId'\n",
    "                                  ,'parentClientId'\n",
    "                                  ,'login'\n",
    "                                  ,'password'\n",
    "                                  ,'industry'\n",
    "                                  ,'accountManager'\n",
    "                                  ,'accountStatus'\n",
    "                                  ,'businessUnit'\n",
    "                                  ,'leadType'\n",
    "                                  ,'inspectionPotentialTO'\n",
    "                                  ,'auditPotentialTO'\n",
    "                                  ,'labTestPotentialTO'\n",
    "                                  ,'saberPotentialTO'\n",
    "                                  ,'comments'\n",
    "                                  ,'country'\n",
    "                                  ,'state'\n",
    "                                  ,'city'\n",
    "                                  ,'address'\n",
    "                                  ,'email'\n",
    "                                  ,'altEmail'\n",
    "                                  ,'accountingEmail'\n",
    "                                  ,'phoneNumber'\n",
    "                                  ,'postCode'\n",
    "                                  ,'salutation'\n",
    "                                  ,'firstName'\n",
    "                                  ,'lastName'\n",
    "                                  ,'jobTitle'\n",
    "                                  ,'keyAccount'\n",
    "                                  ,'unitNumber'\n",
    "                                  ,'municipality'\n",
    "                                  ,'cityCode'\n",
    "                                  ,'districtCode'\n",
    "                                  ,'streetType'\n",
    "                                  ,'acquisition'\n",
    "                                  ,'district'\n",
    "                                  ,'streetName'\n",
    "                                  ,'houseNumber'\n",
    "                                  ,'TAX_SITUATION'\n",
    "                                  ,'VAT_NUMBER'\n",
    "                                  ,'FEDERAL_TAX_ID']]\n",
    "arranged_renamed_df.head(2)\n",
    "\n",
    "\n"
   ]
  },
  {
   "cell_type": "code",
   "execution_count": 184,
   "id": "b4c40bf8",
   "metadata": {},
   "outputs": [],
   "source": [
    "## Script to check already exixt record based on login, and company_name ( external_id)\n",
    "#SELECT  cc.id company_id, cc.company_name, ccu.user_id, gu.first_name||' '||gu.last_name company_user, gu.personal_email,  gu.login company_login, cem.id as main_external_id, cem.external_system, cem.external_id, cem.qima_client_id\n",
    "#FROM AIDATAUSER.CRM_COMPANY_USER ccu  \n",
    "#   inner join AIDATAUSER.CRM_COMPANY cc on ccu.company_id = cc.id\n",
    "#   left join AIDATAUSER.GENERAL_USER gu on ccu.user_id = gu.id\n",
    "#   left join AIDATAUSER.CLIENT_EXTERNAL_MAPPING cem on cc.id = cem.qima_client_id\n",
    "# -- where cc.id in ('669BD08995754C8B82AF20ED4CEE12FB')   \n",
    "# -- where ccu.user_id in ('FFE1949B608846A6B361F7A848216137')\n",
    "#  where gu.login = 'ibd_antonio_carlos_da_costa_sitio_sao_sebastiao'\n",
    "# -- where cc.company_name like '%Tanac%'\n",
    "\n",
    "# TUIUIU EMPREENDIMENTOS AGROPECUARIOS LTDA external_id is null  and in excel Tuiuiu Empreendimentos Agropecuários LTDA external_id 1986\n",
    "# Cooperativa dos Produtores e Colhedores Orgânicos de Parnaíba -> already exist but misspelled  'Colheres' \n",
    "# PROD ROBERTO NASCIMENTO OLIVEIRA   5294  and excel Roberto Nascimento Oliveira    5047\n",
    "#Masi Agricola SPA ---> external_id 5910 existing on db (PP and PROD) and 5873 on excel\n",
    "#PP and PROD Iwao Akamatsu e outros  3603  and in excel Iwao Akamatsu e Outros (Yuri Cogumelos)  5936\n",
    "#PP and PROD Cooperativa Agricola de Formosa do Rio Preto - Coafor external_id 9332 and in excel - Cooperativa Agrícola De Formosa do Rio Preto - COAFOR       6228\n",
    "#PP and PROD COOPALM - Coop. Dos Prod. de Palmito do Baixo Sul da Bahia - COAFOR    internal_id   2929 and in Excel - Cooperativa dos Produtores  de Palmito do Baixo Sul da Bahia ( COOPALM)    6703\n",
    "#PP and Prod Tanac S/A and in  excel Tanac S.A\n",
    "#PP and Staging Associação dos Produtores de Cafés Especiais do Sul de Minas-APROCEM  and in excel Associação dos Produtores de Cafés Especiais do Sul de Minas (Aprocem)\n",
    "#PP and staging LOUISA LEE external_id 7654  and in excel Louisa Lee (Recanto Ecológico)  external_id 7658\n",
    "#COMPANHIA TEXTIL DE CASTANHAL externale_id 7763 and in excel Companhia Têxtil de Castanhal external_id 7764\n",
    "#OSVALDO VIU SERRANO JUNIOR external_id 734 and in excel Osvaldo Viu Serrano Junior (Sítio Fugidos) external_id 7915\n",
    "#ANTONIO CARLOS DA COSTA E OUTRA external_id 3644 and in excel Antonio Carlos da Costa (Sítio São Sebastião) external_id 7916\n",
    "#Perboni S/A external_id 8772 and in excel Perboni S/A external_id 8802\n",
    "#RENIERIS P.C external_id 9155 and in excel Renieris P.C external_id 8939\n",
    "# USINA SAO FRANCISCO S/A  external_id 169 and in excel Usina São Francisco S/A (Native) external_id 9111\n",
    "# IFB - Instituto de Fosfatados Biológicos Ltda.  external_id 1143 and in excel Instituto de Fosfatos Biológicos Ltda external_id 9113\n",
    "#Chemyunion Química LTDA and in excel Chemyunion Ltda_1 external_id 9181\n",
    "# Mandiervas Indústria e Comércio de Ervas Medicinais Ltda external_id 3999 and in excel Mandiervas Comercio De Ervas e Condimentos Ltda external_id 9547\n",
    "# ERALDO DIAS DE CASTRO JUNIOR external_id 9041 and in excel Eraldo Dias de Castro Junior external_id 9613\n",
    "\n",
    "companty_to_exclude= ['Tuiuiu Empreendimentos Agropecuários LTDA'\n",
    "                      ,'Cooperativa dos Produtores e Colhedores Orgânicos de Parnaíba'\n",
    "                      ,'Roberto Nascimento Oliveira'\n",
    "                      ,'Masi Agricola SPA'\n",
    "                      ,'Iwao Akamatsu e Outros (Yuri Cogumelos)'\n",
    "                      ,'Cooperativa Agrícola De Formosa do Rio Preto - COAFOR'\n",
    "                      ,'Cooperativa dos Produtores  de Palmito do Baixo Sul da Bahia ( COOPALM)'\n",
    "                      ,'Tanac S.A'\n",
    "                      ,'Associação dos Produtores de Cafés Especiais do Sul de Minas (Aprocem)'\n",
    "                      ,'Louisa Lee (Recanto Ecológico)'\n",
    "                      ,'Companhia Têxtil de Castanhal'\n",
    "                      ,'Osvaldo Viu Serrano Junior (Sítio Fugidos)'\n",
    "                      ,'Antonio Carlos da Costa (Sítio São Sebastião)'\n",
    "                      ,'Perboni S/A'\n",
    "                      ,'Renieris P.C'\n",
    "                      ,'Usina São Francisco S/A (Native)'\n",
    "                      ,'Instituto de Fosfatos Biológicos Ltda'\n",
    "                      ,'Mandiervas Comercio De Ervas e Condimentos Ltda'\n",
    "                      ,'Eraldo Dias de Castro Junior']\n",
    "arranged_renamed_df = arranged_renamed_df[~arranged_renamed_df.companyName.isin(companty_to_exclude)]"
   ]
  },
  {
   "cell_type": "code",
   "execution_count": 185,
   "id": "154fccf0",
   "metadata": {},
   "outputs": [
    {
     "data": {
      "text/html": [
       "<div>\n",
       "<style scoped>\n",
       "    .dataframe tbody tr th:only-of-type {\n",
       "        vertical-align: middle;\n",
       "    }\n",
       "\n",
       "    .dataframe tbody tr th {\n",
       "        vertical-align: top;\n",
       "    }\n",
       "\n",
       "    .dataframe thead th {\n",
       "        text-align: right;\n",
       "    }\n",
       "</style>\n",
       "<table border=\"1\" class=\"dataframe\">\n",
       "  <thead>\n",
       "    <tr style=\"text-align: right;\">\n",
       "      <th></th>\n",
       "      <th>externalId</th>\n",
       "      <th>companyName</th>\n",
       "      <th>marketingClientId</th>\n",
       "      <th>parentClientId</th>\n",
       "      <th>login</th>\n",
       "      <th>password</th>\n",
       "      <th>industry</th>\n",
       "      <th>accountManager</th>\n",
       "      <th>accountStatus</th>\n",
       "      <th>businessUnit</th>\n",
       "      <th>...</th>\n",
       "      <th>cityCode</th>\n",
       "      <th>districtCode</th>\n",
       "      <th>streetType</th>\n",
       "      <th>acquisition</th>\n",
       "      <th>district</th>\n",
       "      <th>streetName</th>\n",
       "      <th>houseNumber</th>\n",
       "      <th>TAX_SITUATION</th>\n",
       "      <th>VAT_NUMBER</th>\n",
       "      <th>FEDERAL_TAX_ID</th>\n",
       "    </tr>\n",
       "  </thead>\n",
       "  <tbody>\n",
       "    <tr>\n",
       "      <th>0</th>\n",
       "      <td>26</td>\n",
       "      <td>Fazenda Amway Nutrilite do Brasil Ltda</td>\n",
       "      <td>None</td>\n",
       "      <td>None</td>\n",
       "      <td>ibd_fazenda_amway_nutrilite_do_brasil_ltda</td>\n",
       "      <td>None</td>\n",
       "      <td>Other</td>\n",
       "      <td></td>\n",
       "      <td>Active</td>\n",
       "      <td>IBD</td>\n",
       "      <td>...</td>\n",
       "      <td>1461.0</td>\n",
       "      <td>None</td>\n",
       "      <td>None</td>\n",
       "      <td>None</td>\n",
       "      <td>Zona Rural</td>\n",
       "      <td>26</td>\n",
       "      <td>S/N</td>\n",
       "      <td>CNPJ</td>\n",
       "      <td>02.038.405.0001-44</td>\n",
       "      <td>06.668.572-8</td>\n",
       "    </tr>\n",
       "    <tr>\n",
       "      <th>1</th>\n",
       "      <td>89</td>\n",
       "      <td>Companhia Cacique de Café Solúvel</td>\n",
       "      <td>None</td>\n",
       "      <td>None</td>\n",
       "      <td>ibd_companhia_cacique_de_cafe_soluvel</td>\n",
       "      <td>None</td>\n",
       "      <td>Other</td>\n",
       "      <td></td>\n",
       "      <td>Active</td>\n",
       "      <td>IBD</td>\n",
       "      <td>...</td>\n",
       "      <td>3149.0</td>\n",
       "      <td>None</td>\n",
       "      <td>None</td>\n",
       "      <td>None</td>\n",
       "      <td>Pq Indl Cacique</td>\n",
       "      <td>26</td>\n",
       "      <td>100</td>\n",
       "      <td>CNPJ</td>\n",
       "      <td>78.588.415/0001-15</td>\n",
       "      <td>60.102.504-37</td>\n",
       "    </tr>\n",
       "    <tr>\n",
       "      <th>2</th>\n",
       "      <td>113</td>\n",
       "      <td>Fernando Borges de Assis</td>\n",
       "      <td>None</td>\n",
       "      <td>None</td>\n",
       "      <td>ibd_fernando_borges_de_assis</td>\n",
       "      <td>None</td>\n",
       "      <td>Other</td>\n",
       "      <td></td>\n",
       "      <td>Active</td>\n",
       "      <td>IBD</td>\n",
       "      <td>...</td>\n",
       "      <td>4256.0</td>\n",
       "      <td>None</td>\n",
       "      <td>None</td>\n",
       "      <td>None</td>\n",
       "      <td>Várzea dos Cedros</td>\n",
       "      <td>25</td>\n",
       "      <td>s/n</td>\n",
       "      <td>CPF</td>\n",
       "      <td>01.499.018/0001-42</td>\n",
       "      <td>500.584.444-9</td>\n",
       "    </tr>\n",
       "    <tr>\n",
       "      <th>3</th>\n",
       "      <td>262</td>\n",
       "      <td>NUTRITION &amp; SANTÉ DO BRASIL LTDA</td>\n",
       "      <td>None</td>\n",
       "      <td>None</td>\n",
       "      <td>ibd_nutrition_&amp;_sante_do_brasil_ltda</td>\n",
       "      <td>None</td>\n",
       "      <td>Other</td>\n",
       "      <td></td>\n",
       "      <td>Active</td>\n",
       "      <td>IBD</td>\n",
       "      <td>...</td>\n",
       "      <td>3013.0</td>\n",
       "      <td>None</td>\n",
       "      <td>None</td>\n",
       "      <td>None</td>\n",
       "      <td>Campo Fundo</td>\n",
       "      <td>2</td>\n",
       "      <td>896</td>\n",
       "      <td>CNPJ</td>\n",
       "      <td>81.727.414/0008-95</td>\n",
       "      <td>9068354010</td>\n",
       "    </tr>\n",
       "    <tr>\n",
       "      <th>4</th>\n",
       "      <td>470</td>\n",
       "      <td>Coop. dos Produtores Org. do Sul da Bahia - CA...</td>\n",
       "      <td>None</td>\n",
       "      <td>None</td>\n",
       "      <td>ibd_coop_dos_produtores_org_do_sul_da_bahia_ca...</td>\n",
       "      <td>None</td>\n",
       "      <td>Other</td>\n",
       "      <td></td>\n",
       "      <td>Active</td>\n",
       "      <td>IBD</td>\n",
       "      <td>...</td>\n",
       "      <td>3618.0</td>\n",
       "      <td>None</td>\n",
       "      <td>None</td>\n",
       "      <td>None</td>\n",
       "      <td>Nossa Senhora da Vitória</td>\n",
       "      <td>2</td>\n",
       "      <td>2038</td>\n",
       "      <td>CNPJ</td>\n",
       "      <td>04.293.272/0001-88</td>\n",
       "      <td>055.657.534</td>\n",
       "    </tr>\n",
       "    <tr>\n",
       "      <th>...</th>\n",
       "      <td>...</td>\n",
       "      <td>...</td>\n",
       "      <td>...</td>\n",
       "      <td>...</td>\n",
       "      <td>...</td>\n",
       "      <td>...</td>\n",
       "      <td>...</td>\n",
       "      <td>...</td>\n",
       "      <td>...</td>\n",
       "      <td>...</td>\n",
       "      <td>...</td>\n",
       "      <td>...</td>\n",
       "      <td>...</td>\n",
       "      <td>...</td>\n",
       "      <td>...</td>\n",
       "      <td>...</td>\n",
       "      <td>...</td>\n",
       "      <td>...</td>\n",
       "      <td>...</td>\n",
       "      <td>...</td>\n",
       "      <td>...</td>\n",
       "    </tr>\n",
       "    <tr>\n",
       "      <th>262</th>\n",
       "      <td>9822</td>\n",
       "      <td>Ibis Agraria Ltda</td>\n",
       "      <td>None</td>\n",
       "      <td>None</td>\n",
       "      <td>ibd_ibis_agraria_ltda_3</td>\n",
       "      <td>None</td>\n",
       "      <td>Other</td>\n",
       "      <td></td>\n",
       "      <td>Active</td>\n",
       "      <td>IBD</td>\n",
       "      <td>...</td>\n",
       "      <td>345.0</td>\n",
       "      <td>None</td>\n",
       "      <td>None</td>\n",
       "      <td>None</td>\n",
       "      <td>Zona Rural</td>\n",
       "      <td>25</td>\n",
       "      <td>S/N</td>\n",
       "      <td>CNPJ</td>\n",
       "      <td>13.504.053/0008-68</td>\n",
       "      <td>28.735.761-9</td>\n",
       "    </tr>\n",
       "    <tr>\n",
       "      <th>263</th>\n",
       "      <td>9823</td>\n",
       "      <td>Ibis Agraria Ltda</td>\n",
       "      <td>None</td>\n",
       "      <td>None</td>\n",
       "      <td>ibd_ibis_agraria_ltda_4</td>\n",
       "      <td>None</td>\n",
       "      <td>Other</td>\n",
       "      <td></td>\n",
       "      <td>Active</td>\n",
       "      <td>IBD</td>\n",
       "      <td>...</td>\n",
       "      <td>330.0</td>\n",
       "      <td>None</td>\n",
       "      <td>None</td>\n",
       "      <td>None</td>\n",
       "      <td>ZONA RURAL</td>\n",
       "      <td>25</td>\n",
       "      <td>S/N</td>\n",
       "      <td>CNPJ</td>\n",
       "      <td>13.504.053/0008-68</td>\n",
       "      <td>28.710.366-8</td>\n",
       "    </tr>\n",
       "    <tr>\n",
       "      <th>264</th>\n",
       "      <td>9827</td>\n",
       "      <td>Eliane Aparecida Da Luz 79147127953</td>\n",
       "      <td>None</td>\n",
       "      <td>None</td>\n",
       "      <td>ibd_eliane_aparecida_da_luz_79147127953</td>\n",
       "      <td>None</td>\n",
       "      <td>Other</td>\n",
       "      <td></td>\n",
       "      <td>Active</td>\n",
       "      <td>IBD</td>\n",
       "      <td>...</td>\n",
       "      <td>2799.0</td>\n",
       "      <td>None</td>\n",
       "      <td>None</td>\n",
       "      <td>None</td>\n",
       "      <td>Rio Bonito (Pirabeiraba)</td>\n",
       "      <td>9</td>\n",
       "      <td>1301</td>\n",
       "      <td>CNPJ</td>\n",
       "      <td>46.162.220/0001-12</td>\n",
       "      <td>NaN</td>\n",
       "    </tr>\n",
       "    <tr>\n",
       "      <th>265</th>\n",
       "      <td>9828</td>\n",
       "      <td>Inpasa Del Paraguay S.A.</td>\n",
       "      <td>None</td>\n",
       "      <td>None</td>\n",
       "      <td>ibd_inpasa_del_paraguay_sa</td>\n",
       "      <td>None</td>\n",
       "      <td>Other</td>\n",
       "      <td></td>\n",
       "      <td>Active</td>\n",
       "      <td>IBD</td>\n",
       "      <td>...</td>\n",
       "      <td>NaN</td>\n",
       "      <td>None</td>\n",
       "      <td>None</td>\n",
       "      <td>None</td>\n",
       "      <td>-</td>\n",
       "      <td>25</td>\n",
       "      <td>S/N</td>\n",
       "      <td>CNPJ</td>\n",
       "      <td>80034565-7</td>\n",
       "      <td>137201761</td>\n",
       "    </tr>\n",
       "    <tr>\n",
       "      <th>266</th>\n",
       "      <td>9831</td>\n",
       "      <td>Fazenda Guariroba S/A (Fazenda Guariroba, Sant...</td>\n",
       "      <td>None</td>\n",
       "      <td>None</td>\n",
       "      <td>ibd_fazenda_guariroba_sa_fazenda_guariroba_san...</td>\n",
       "      <td>None</td>\n",
       "      <td>Other</td>\n",
       "      <td></td>\n",
       "      <td>Active</td>\n",
       "      <td>IBD</td>\n",
       "      <td>...</td>\n",
       "      <td>4477.0</td>\n",
       "      <td>None</td>\n",
       "      <td>None</td>\n",
       "      <td>None</td>\n",
       "      <td>Joaquim Edigio</td>\n",
       "      <td>9</td>\n",
       "      <td>S/N</td>\n",
       "      <td>CNPJ</td>\n",
       "      <td>04748856/0002-81</td>\n",
       "      <td>244894365112</td>\n",
       "    </tr>\n",
       "  </tbody>\n",
       "</table>\n",
       "<p>248 rows × 42 columns</p>\n",
       "</div>"
      ],
      "text/plain": [
       "     externalId                                        companyName  \\\n",
       "0            26             Fazenda Amway Nutrilite do Brasil Ltda   \n",
       "1            89                  Companhia Cacique de Café Solúvel   \n",
       "2           113                           Fernando Borges de Assis   \n",
       "3           262                   NUTRITION & SANTÉ DO BRASIL LTDA   \n",
       "4           470  Coop. dos Produtores Org. do Sul da Bahia - CA...   \n",
       "..          ...                                                ...   \n",
       "262        9822                                  Ibis Agraria Ltda   \n",
       "263        9823                                  Ibis Agraria Ltda   \n",
       "264        9827                Eliane Aparecida Da Luz 79147127953   \n",
       "265        9828                           Inpasa Del Paraguay S.A.   \n",
       "266        9831  Fazenda Guariroba S/A (Fazenda Guariroba, Sant...   \n",
       "\n",
       "    marketingClientId parentClientId  \\\n",
       "0                None           None   \n",
       "1                None           None   \n",
       "2                None           None   \n",
       "3                None           None   \n",
       "4                None           None   \n",
       "..                ...            ...   \n",
       "262              None           None   \n",
       "263              None           None   \n",
       "264              None           None   \n",
       "265              None           None   \n",
       "266              None           None   \n",
       "\n",
       "                                                 login password industry  \\\n",
       "0           ibd_fazenda_amway_nutrilite_do_brasil_ltda     None    Other   \n",
       "1                ibd_companhia_cacique_de_cafe_soluvel     None    Other   \n",
       "2                         ibd_fernando_borges_de_assis     None    Other   \n",
       "3                 ibd_nutrition_&_sante_do_brasil_ltda     None    Other   \n",
       "4    ibd_coop_dos_produtores_org_do_sul_da_bahia_ca...     None    Other   \n",
       "..                                                 ...      ...      ...   \n",
       "262                            ibd_ibis_agraria_ltda_3     None    Other   \n",
       "263                            ibd_ibis_agraria_ltda_4     None    Other   \n",
       "264            ibd_eliane_aparecida_da_luz_79147127953     None    Other   \n",
       "265                         ibd_inpasa_del_paraguay_sa     None    Other   \n",
       "266  ibd_fazenda_guariroba_sa_fazenda_guariroba_san...     None    Other   \n",
       "\n",
       "    accountManager accountStatus businessUnit  ... cityCode districtCode  \\\n",
       "0                         Active          IBD  ...   1461.0         None   \n",
       "1                         Active          IBD  ...   3149.0         None   \n",
       "2                         Active          IBD  ...   4256.0         None   \n",
       "3                         Active          IBD  ...   3013.0         None   \n",
       "4                         Active          IBD  ...   3618.0         None   \n",
       "..             ...           ...          ...  ...      ...          ...   \n",
       "262                       Active          IBD  ...    345.0         None   \n",
       "263                       Active          IBD  ...    330.0         None   \n",
       "264                       Active          IBD  ...   2799.0         None   \n",
       "265                       Active          IBD  ...      NaN         None   \n",
       "266                       Active          IBD  ...   4477.0         None   \n",
       "\n",
       "    streetType acquisition                  district streetName houseNumber  \\\n",
       "0         None        None                Zona Rural         26         S/N   \n",
       "1         None        None           Pq Indl Cacique         26         100   \n",
       "2         None        None         Várzea dos Cedros         25         s/n   \n",
       "3         None        None               Campo Fundo          2         896   \n",
       "4         None        None  Nossa Senhora da Vitória          2        2038   \n",
       "..         ...         ...                       ...        ...         ...   \n",
       "262       None        None                Zona Rural         25         S/N   \n",
       "263       None        None                ZONA RURAL         25         S/N   \n",
       "264       None        None  Rio Bonito (Pirabeiraba)          9        1301   \n",
       "265       None        None                         -         25         S/N   \n",
       "266       None        None            Joaquim Edigio          9         S/N   \n",
       "\n",
       "    TAX_SITUATION          VAT_NUMBER FEDERAL_TAX_ID  \n",
       "0            CNPJ  02.038.405.0001-44   06.668.572-8  \n",
       "1            CNPJ  78.588.415/0001-15  60.102.504-37  \n",
       "2             CPF  01.499.018/0001-42  500.584.444-9  \n",
       "3            CNPJ  81.727.414/0008-95     9068354010  \n",
       "4            CNPJ  04.293.272/0001-88    055.657.534  \n",
       "..            ...                 ...            ...  \n",
       "262          CNPJ  13.504.053/0008-68   28.735.761-9  \n",
       "263          CNPJ  13.504.053/0008-68   28.710.366-8  \n",
       "264          CNPJ  46.162.220/0001-12            NaN  \n",
       "265          CNPJ          80034565-7      137201761  \n",
       "266          CNPJ    04748856/0002-81   244894365112  \n",
       "\n",
       "[248 rows x 42 columns]"
      ]
     },
     "execution_count": 185,
     "metadata": {},
     "output_type": "execute_result"
    }
   ],
   "source": [
    "#sample_record = arranged_renamed_df.head(1)\n",
    "#filter_value = ['Fazenda Amway Nutrilite do Brasil Ltda',\n",
    "#'Companhia Cacique de Café Solúvel',\n",
    "#'Fernando Borges de Assis',\n",
    "#'NUTRITION & SANTÉ DO BRASIL LTDA',\n",
    "#'Coop. dos Produtores Org. do Sul da Bahia - CABRUCA',\n",
    "#'Cláudio Carneiro Pinto',\n",
    "#'Marfrig Global Foods S/A']\n",
    "#filter_value = ['Nuncio Regino']\n",
    "#filter_value = ['Ibis Agraria Ltda']\n",
    "#filter_value = ['Cumberland Packing Corp.']\n",
    "#filter_value = ['Ceres Enterprises Ltd.']\n",
    "#record = arranged_renamed_df[arranged_renamed_df['companyName'].isin(filter_value)]\n",
    "record = arranged_renamed_df\n",
    "record "
   ]
  },
  {
   "cell_type": "code",
   "execution_count": 186,
   "id": "fbd0bbdc",
   "metadata": {},
   "outputs": [],
   "source": [
    "param_generateLogin = \"false\"\n",
    "param_loginStrategy = \"email\"\n",
    "param_generatePassword = \"true\"\n",
    "param_passwordStrategy = \"random\"\n",
    "param_keepOriginalPassword = \"false\"\n",
    "param_externalSystemName = \"IBD\"\n",
    "param_businessUnitKey = \"IBD\"\n",
    "param_externalIdByMd5 = \"false\"\n",
    "param_allowUpdate = \"true\""
   ]
  },
  {
   "cell_type": "code",
   "execution_count": 187,
   "id": "17be02d5",
   "metadata": {},
   "outputs": [
    {
     "name": "stdout",
     "output_type": "stream",
     "text": [
      "'http://ppservice.qima.com/customer-service/v1.0/customer?generateLogin=false&loginStrategy=email&generatePassword=true&passwordStrategy=random&keepOriginalPassword=false&externalSystemName=IBD&businessUnitKey=IBD&externalIdByMd5=false&allowUpdate=true'\n",
      "'https://ppservice.qima.com/customer-service/customer/update-invoicing-fields'\n"
     ]
    }
   ],
   "source": [
    "# Assign URL\n",
    "post_url_new_account = f\"'http://ppservice.qima.com/customer-service/v1.0/customer?generateLogin={param_generateLogin}&loginStrategy={param_loginStrategy}&generatePassword={param_generatePassword}&passwordStrategy={param_passwordStrategy}&keepOriginalPassword={param_keepOriginalPassword}&externalSystemName={param_externalSystemName}&businessUnitKey={param_businessUnitKey}&externalIdByMd5={param_externalIdByMd5}&allowUpdate={param_allowUpdate}'\"\n",
    "print(post_url_new_account)\n",
    "\n",
    "post_url_sync_netsuite=\"'https://ppservice.qima.com/customer-service/customer/update-invoicing-fields'\"\n",
    "print(post_url_sync_netsuite)\n"
   ]
  },
  {
   "cell_type": "code",
   "execution_count": 188,
   "id": "d3fb0d0d",
   "metadata": {
    "scrolled": true
   },
   "outputs": [
    {
     "name": "stderr",
     "output_type": "stream",
     "text": [
      "  0%|          | 1/248 [00:01<08:04,  1.96s/it]"
     ]
    },
    {
     "name": "stdout",
     "output_type": "stream",
     "text": [
      "\n",
      "Status_code =  200 response content =  b'{\"customerId[F4FE0FEB6F4F457A8133B7195D099A67]\":\"invoicing fields updated successfully\"}'\n"
     ]
    },
    {
     "name": "stderr",
     "output_type": "stream",
     "text": [
      "\r",
      "  1%|          | 2/248 [00:03<07:08,  1.74s/it]"
     ]
    },
    {
     "name": "stdout",
     "output_type": "stream",
     "text": [
      "\n",
      "Status_code =  200 response content =  b'{\"customerId[097572F7E5EE4A0485375770420F92B2]\":\"invoicing fields updated successfully\"}'\n"
     ]
    },
    {
     "name": "stderr",
     "output_type": "stream",
     "text": [
      "\r",
      "  1%|          | 3/248 [00:05<06:35,  1.62s/it]"
     ]
    },
    {
     "name": "stdout",
     "output_type": "stream",
     "text": [
      "\n",
      "Status_code =  200 response content =  b'{\"customerId[AC8B1C5573A041C7A355052A0FF85634]\":\"invoicing fields updated successfully\"}'\n"
     ]
    },
    {
     "name": "stderr",
     "output_type": "stream",
     "text": [
      "\r",
      "  2%|▏         | 4/248 [00:05<05:29,  1.35s/it]"
     ]
    },
    {
     "name": "stdout",
     "output_type": "stream",
     "text": [
      "\n",
      "Status_code =  200 response content =  b'{\"customerId[4EC451102AC84388B6E12967FB07EF09]\":\"invoicing fields updated successfully\"}'\n"
     ]
    },
    {
     "name": "stderr",
     "output_type": "stream",
     "text": [
      "\r",
      "  2%|▏         | 5/248 [00:06<04:55,  1.22s/it]"
     ]
    },
    {
     "name": "stdout",
     "output_type": "stream",
     "text": [
      "\n",
      "Status_code =  200 response content =  b'{\"customerId[65ACC70BD40646459B90E41C199B3AF1]\":\"invoicing fields updated successfully\"}'\n"
     ]
    },
    {
     "name": "stderr",
     "output_type": "stream",
     "text": [
      "\r",
      "  2%|▏         | 6/248 [00:08<05:13,  1.30s/it]"
     ]
    },
    {
     "name": "stdout",
     "output_type": "stream",
     "text": [
      "\n",
      "Status_code =  200 response content =  b'{\"customerId[33E2C74F0A704B03ABEE2E79CA07D5C3]\":\"invoicing fields updated successfully\"}'\n"
     ]
    },
    {
     "name": "stderr",
     "output_type": "stream",
     "text": [
      "\r",
      "  3%|▎         | 7/248 [00:09<05:09,  1.29s/it]"
     ]
    },
    {
     "name": "stdout",
     "output_type": "stream",
     "text": [
      "\n",
      "Status_code =  200 response content =  b'{\"customerId[20E111486CC843FCBCBFE9EDE1A77301]\":\"invoicing fields updated successfully\"}'\n"
     ]
    },
    {
     "name": "stderr",
     "output_type": "stream",
     "text": [
      "\r",
      "  3%|▎         | 8/248 [00:10<04:43,  1.18s/it]"
     ]
    },
    {
     "name": "stdout",
     "output_type": "stream",
     "text": [
      "\n",
      "Status_code =  200 response content =  b'{\"customerId[E6C0ECEA4DF344AF8F781F3907DD759E]\":\"invoicing fields updated successfully\"}'\n"
     ]
    },
    {
     "name": "stderr",
     "output_type": "stream",
     "text": [
      "\r",
      "  4%|▎         | 9/248 [00:12<05:33,  1.39s/it]"
     ]
    },
    {
     "name": "stdout",
     "output_type": "stream",
     "text": [
      "\n",
      "Status_code =  200 response content =  b'{\"customerId[299EF2A4163D46CDB4894F7926E56949]\":\"invoicing fields updated successfully\"}'\n"
     ]
    },
    {
     "name": "stderr",
     "output_type": "stream",
     "text": [
      "\r",
      "  4%|▍         | 10/248 [00:13<04:51,  1.23s/it]"
     ]
    },
    {
     "name": "stdout",
     "output_type": "stream",
     "text": [
      "\n",
      "Status_code =  200 response content =  b'{\"customerId[0C7A03342C2D487B8A84D89FB2FABD6D]\":\"invoicing fields updated successfully\"}'\n"
     ]
    },
    {
     "name": "stderr",
     "output_type": "stream",
     "text": [
      "\r",
      "  4%|▍         | 11/248 [00:14<04:37,  1.17s/it]"
     ]
    },
    {
     "name": "stdout",
     "output_type": "stream",
     "text": [
      "\n",
      "Status_code =  200 response content =  b'{\"customerId[62F979C527E543D39F0BF8F19687600B]\":\"invoicing fields updated successfully\"}'\n"
     ]
    },
    {
     "name": "stderr",
     "output_type": "stream",
     "text": [
      "\r",
      "  5%|▍         | 12/248 [00:15<04:26,  1.13s/it]"
     ]
    },
    {
     "name": "stdout",
     "output_type": "stream",
     "text": [
      "\n",
      "Status_code =  200 response content =  b'{\"customerId[F8E25021B32A4BCB9225A918138B9B9B]\":\"invoicing fields updated successfully\"}'\n"
     ]
    },
    {
     "name": "stderr",
     "output_type": "stream",
     "text": [
      "\r",
      "  5%|▌         | 13/248 [00:16<04:13,  1.08s/it]"
     ]
    },
    {
     "name": "stdout",
     "output_type": "stream",
     "text": [
      "\n",
      "Status_code =  200 response content =  b'{\"customerId[1FAE9B554B95479BBF22DE639E4EC798]\":\"invoicing fields updated successfully\"}'\n"
     ]
    },
    {
     "name": "stderr",
     "output_type": "stream",
     "text": [
      "\r",
      "  6%|▌         | 14/248 [00:17<04:05,  1.05s/it]"
     ]
    },
    {
     "name": "stdout",
     "output_type": "stream",
     "text": [
      "\n",
      "Status_code =  200 response content =  b'{\"customerId[99E5C33741D943E4955F02E0FD88DD5B]\":\"invoicing fields updated successfully\"}'\n"
     ]
    },
    {
     "name": "stderr",
     "output_type": "stream",
     "text": [
      "\r",
      "  6%|▌         | 15/248 [00:18<04:17,  1.11s/it]"
     ]
    },
    {
     "name": "stdout",
     "output_type": "stream",
     "text": [
      "\n",
      "Status_code =  200 response content =  b'{\"customerId[70106D59634E4E628C80D1C7DBF75218]\":\"invoicing fields updated successfully\"}'\n"
     ]
    },
    {
     "name": "stderr",
     "output_type": "stream",
     "text": [
      "\r",
      "  6%|▋         | 16/248 [00:19<04:07,  1.07s/it]"
     ]
    },
    {
     "name": "stdout",
     "output_type": "stream",
     "text": [
      "\n",
      "Status_code =  200 response content =  b'{\"customerId[6D1620F6E3714CD9AF93F6317121C9D0]\":\"invoicing fields updated successfully\"}'\n"
     ]
    },
    {
     "name": "stderr",
     "output_type": "stream",
     "text": [
      "\r",
      "  7%|▋         | 17/248 [00:20<03:50,  1.00it/s]"
     ]
    },
    {
     "name": "stdout",
     "output_type": "stream",
     "text": [
      "\n",
      "Status_code =  200 response content =  b'{\"customerId[55EB2AA233BC4716B3C7B05DD793CFAD]\":\"invoicing fields updated successfully\"}'\n"
     ]
    },
    {
     "name": "stderr",
     "output_type": "stream",
     "text": [
      "\r",
      "  7%|▋         | 18/248 [00:21<03:30,  1.09it/s]"
     ]
    },
    {
     "name": "stdout",
     "output_type": "stream",
     "text": [
      "\n",
      "Status_code =  200 response content =  b'{\"customerId[E68ED713A548453281D1CCB9CEB603CE]\":\"invoicing fields updated successfully\"}'\n"
     ]
    },
    {
     "name": "stderr",
     "output_type": "stream",
     "text": [
      "\r",
      "  8%|▊         | 19/248 [00:21<03:17,  1.16it/s]"
     ]
    },
    {
     "name": "stdout",
     "output_type": "stream",
     "text": [
      "\n",
      "Status_code =  200 response content =  b'{\"customerId[6DA545528BAD4EE9ACCE4230752F4E12]\":\"invoicing fields updated successfully\"}'\n"
     ]
    },
    {
     "name": "stderr",
     "output_type": "stream",
     "text": [
      "\r",
      "  8%|▊         | 20/248 [00:22<03:11,  1.19it/s]"
     ]
    },
    {
     "name": "stdout",
     "output_type": "stream",
     "text": [
      "\n",
      "Status_code =  200 response content =  b'{\"customerId[9527240B0BDA4599A9CCB9BFE00C419A]\":\"invoicing fields updated successfully\"}'\n"
     ]
    },
    {
     "name": "stderr",
     "output_type": "stream",
     "text": [
      "\r",
      "  8%|▊         | 21/248 [00:23<03:05,  1.22it/s]"
     ]
    },
    {
     "name": "stdout",
     "output_type": "stream",
     "text": [
      "\n",
      "Status_code =  200 response content =  b'{\"customerId[58BAFBA0C30B4EBA9A195DF78010A75A]\":\"invoicing fields updated successfully\"}'\n"
     ]
    },
    {
     "name": "stderr",
     "output_type": "stream",
     "text": [
      "\r",
      "  9%|▉         | 22/248 [00:24<02:58,  1.27it/s]"
     ]
    },
    {
     "name": "stdout",
     "output_type": "stream",
     "text": [
      "\n",
      "Status_code =  200 response content =  b'{\"customerId[6B9433D521284D82AD71210E0DCED7BB]\":\"invoicing fields updated successfully\"}'\n"
     ]
    },
    {
     "name": "stderr",
     "output_type": "stream",
     "text": [
      "\r",
      "  9%|▉         | 23/248 [00:24<03:00,  1.25it/s]"
     ]
    },
    {
     "name": "stdout",
     "output_type": "stream",
     "text": [
      "\n",
      "Status_code =  200 response content =  b'{\"customerId[0C8A72C4DCC64D5689630EF5907CF91A]\":\"invoicing fields updated successfully\"}'\n"
     ]
    },
    {
     "name": "stderr",
     "output_type": "stream",
     "text": [
      "\r",
      " 10%|▉         | 24/248 [00:25<03:01,  1.24it/s]"
     ]
    },
    {
     "name": "stdout",
     "output_type": "stream",
     "text": [
      "\n",
      "Status_code =  200 response content =  b'{\"customerId[6689068FFC7545C39246CCADAE5530EE]\":\"invoicing fields updated successfully\"}'\n"
     ]
    },
    {
     "name": "stderr",
     "output_type": "stream",
     "text": [
      "\r",
      " 10%|█         | 25/248 [00:26<02:58,  1.25it/s]"
     ]
    },
    {
     "name": "stdout",
     "output_type": "stream",
     "text": [
      "\n",
      "Status_code =  200 response content =  b'{\"customerId[58B973A60C7F4E8DBB42E408ED2380A3]\":\"invoicing fields updated successfully\"}'\n"
     ]
    },
    {
     "name": "stderr",
     "output_type": "stream",
     "text": [
      "\r",
      " 10%|█         | 26/248 [00:27<03:24,  1.09it/s]"
     ]
    },
    {
     "name": "stdout",
     "output_type": "stream",
     "text": [
      "\n",
      "Status_code =  200 response content =  b'{\"customerId[18E8BDEE7AB141D4B7922255F3E119E2]\":\"invoicing fields updated successfully\"}'\n"
     ]
    },
    {
     "name": "stderr",
     "output_type": "stream",
     "text": [
      "\r",
      " 11%|█         | 27/248 [00:28<03:42,  1.01s/it]"
     ]
    },
    {
     "name": "stdout",
     "output_type": "stream",
     "text": [
      "\n",
      "Status_code =  200 response content =  b'{\"customerId[04C61B0AE1AB46C0A2CE16311EC4DA55]\":\"invoicing fields updated successfully\"}'\n"
     ]
    },
    {
     "name": "stderr",
     "output_type": "stream",
     "text": [
      "\r",
      " 11%|█▏        | 28/248 [00:30<03:45,  1.02s/it]"
     ]
    },
    {
     "name": "stdout",
     "output_type": "stream",
     "text": [
      "\n",
      "Status_code =  200 response content =  b'{\"customerId[1A72EBFF1A6B4E739D0A674D42FF1262]\":\"invoicing fields updated successfully\"}'\n"
     ]
    },
    {
     "name": "stderr",
     "output_type": "stream",
     "text": [
      "\r",
      " 12%|█▏        | 29/248 [00:30<03:30,  1.04it/s]"
     ]
    },
    {
     "name": "stdout",
     "output_type": "stream",
     "text": [
      "\n",
      "Status_code =  200 response content =  b'{\"customerId[6014212DCC8848D48FC12D8979D1123F]\":\"invoicing fields updated successfully\"}'\n"
     ]
    },
    {
     "name": "stderr",
     "output_type": "stream",
     "text": [
      "\r",
      " 12%|█▏        | 30/248 [00:32<03:56,  1.09s/it]"
     ]
    },
    {
     "name": "stdout",
     "output_type": "stream",
     "text": [
      "\n",
      "Status_code =  200 response content =  b'{\"customerId[531657EA0531424E97E36DC85C8D6634]\":\"invoicing fields updated successfully\"}'\n"
     ]
    },
    {
     "name": "stderr",
     "output_type": "stream",
     "text": [
      "\r",
      " 12%|█▎        | 31/248 [00:33<03:45,  1.04s/it]"
     ]
    },
    {
     "name": "stdout",
     "output_type": "stream",
     "text": [
      "\n",
      "Status_code =  200 response content =  b'{\"customerId[09CFC95AA0404E4C8EC4134BC397B185]\":\"invoicing fields updated successfully\"}'\n"
     ]
    },
    {
     "name": "stderr",
     "output_type": "stream",
     "text": [
      "\r",
      " 13%|█▎        | 32/248 [00:34<03:37,  1.00s/it]"
     ]
    },
    {
     "name": "stdout",
     "output_type": "stream",
     "text": [
      "\n",
      "Status_code =  200 response content =  b'{\"customerId[974B660CFA0D4F869F1E7A1C08B0D377]\":\"invoicing fields updated successfully\"}'\n"
     ]
    },
    {
     "name": "stderr",
     "output_type": "stream",
     "text": [
      "\r",
      " 13%|█▎        | 33/248 [00:34<03:24,  1.05it/s]"
     ]
    },
    {
     "name": "stdout",
     "output_type": "stream",
     "text": [
      "\n",
      "Status_code =  200 response content =  b'{\"customerId[EBCB0E4E02114E81B17DE8AF8628A088]\":\"invoicing fields updated successfully\"}'\n"
     ]
    },
    {
     "name": "stderr",
     "output_type": "stream",
     "text": [
      "\r",
      " 14%|█▎        | 34/248 [00:36<03:41,  1.03s/it]"
     ]
    },
    {
     "name": "stdout",
     "output_type": "stream",
     "text": [
      "\n",
      "Status_code =  200 response content =  b'{\"customerId[C8177EE68A0549ABBC128AD427A29235]\":\"invoicing fields updated successfully\"}'\n"
     ]
    },
    {
     "name": "stderr",
     "output_type": "stream",
     "text": [
      "\r",
      " 14%|█▍        | 35/248 [00:36<03:19,  1.07it/s]"
     ]
    },
    {
     "name": "stdout",
     "output_type": "stream",
     "text": [
      "\n",
      "Status_code =  200 response content =  b'{\"customerId[4F24B611A27F478CB9E7D39595F2EF00]\":\"invoicing fields updated successfully\"}'\n"
     ]
    },
    {
     "name": "stderr",
     "output_type": "stream",
     "text": [
      "\r",
      " 15%|█▍        | 36/248 [00:37<03:17,  1.08it/s]"
     ]
    },
    {
     "name": "stdout",
     "output_type": "stream",
     "text": [
      "\n",
      "Status_code =  200 response content =  b'{\"customerId[1AD3B673E61F4EA796CD6C87B4B8C0C2]\":\"invoicing fields updated successfully\"}'\n"
     ]
    },
    {
     "name": "stderr",
     "output_type": "stream",
     "text": [
      "\r",
      " 15%|█▍        | 37/248 [00:38<03:19,  1.06it/s]"
     ]
    },
    {
     "name": "stdout",
     "output_type": "stream",
     "text": [
      "\n",
      "Status_code =  200 response content =  b'{\"customerId[DD87D2F028FB45FEB21F39B790BFE5B6]\":\"invoicing fields updated successfully\"}'\n"
     ]
    },
    {
     "name": "stderr",
     "output_type": "stream",
     "text": [
      "\r",
      " 15%|█▌        | 38/248 [00:39<03:19,  1.05it/s]"
     ]
    },
    {
     "name": "stdout",
     "output_type": "stream",
     "text": [
      "\n",
      "Status_code =  200 response content =  b'{\"customerId[1F33E27316E14D39BFFA1A52F2147741]\":\"invoicing fields updated successfully\"}'\n"
     ]
    },
    {
     "name": "stderr",
     "output_type": "stream",
     "text": [
      "\r",
      " 16%|█▌        | 39/248 [00:40<03:14,  1.07it/s]"
     ]
    },
    {
     "name": "stdout",
     "output_type": "stream",
     "text": [
      "\n",
      "Status_code =  200 response content =  b'{\"customerId[F504EA8EB8644B4E945306280FE4D15C]\":\"invoicing fields updated successfully\"}'\n"
     ]
    },
    {
     "name": "stderr",
     "output_type": "stream",
     "text": [
      "\r",
      " 16%|█▌        | 40/248 [00:41<03:12,  1.08it/s]"
     ]
    },
    {
     "name": "stdout",
     "output_type": "stream",
     "text": [
      "\n",
      "Status_code =  200 response content =  b'{\"customerId[11C03C741FB4442E9B59344C82535821]\":\"invoicing fields updated successfully\"}'\n"
     ]
    },
    {
     "name": "stderr",
     "output_type": "stream",
     "text": [
      "\r",
      " 17%|█▋        | 41/248 [00:42<03:14,  1.06it/s]"
     ]
    },
    {
     "name": "stdout",
     "output_type": "stream",
     "text": [
      "\n",
      "Status_code =  200 response content =  b'{\"customerId[196A5C1D7AE84D529D1D16C0F2B0198E]\":\"invoicing fields updated successfully\"}'\n"
     ]
    },
    {
     "name": "stderr",
     "output_type": "stream",
     "text": [
      "\r",
      " 17%|█▋        | 42/248 [00:43<03:00,  1.14it/s]"
     ]
    },
    {
     "name": "stdout",
     "output_type": "stream",
     "text": [
      "\n",
      "Status_code =  200 response content =  b'{\"customerId[B8B9154A0B21450481A957898BB4C8C7]\":\"invoicing fields updated successfully\"}'\n"
     ]
    },
    {
     "name": "stderr",
     "output_type": "stream",
     "text": [
      "\r",
      " 17%|█▋        | 43/248 [00:44<03:06,  1.10it/s]"
     ]
    },
    {
     "name": "stdout",
     "output_type": "stream",
     "text": [
      "\n",
      "Status_code =  200 response content =  b'{\"customerId[99A374CFFE4042B296EA5A3769B71FBE]\":\"invoicing fields updated successfully\"}'\n"
     ]
    },
    {
     "name": "stderr",
     "output_type": "stream",
     "text": [
      "\r",
      " 18%|█▊        | 44/248 [00:44<02:55,  1.16it/s]"
     ]
    },
    {
     "name": "stdout",
     "output_type": "stream",
     "text": [
      "\n",
      "Status_code =  200 response content =  b'{\"customerId[32BDB3547BC04306A536A5748DD5276C]\":\"invoicing fields updated successfully\"}'\n"
     ]
    },
    {
     "name": "stderr",
     "output_type": "stream",
     "text": [
      "\r",
      " 18%|█▊        | 45/248 [00:45<02:52,  1.18it/s]"
     ]
    },
    {
     "name": "stdout",
     "output_type": "stream",
     "text": [
      "\n",
      "Status_code =  200 response content =  b'{\"customerId[852E7D9637574CFB98F138D6CB53D55C]\":\"invoicing fields updated successfully\"}'\n"
     ]
    },
    {
     "name": "stderr",
     "output_type": "stream",
     "text": [
      "\r",
      " 19%|█▊        | 46/248 [00:46<02:42,  1.24it/s]"
     ]
    },
    {
     "name": "stdout",
     "output_type": "stream",
     "text": [
      "\n",
      "Status_code =  200 response content =  b'{\"customerId[1CF351EA18F64E17B0D85A0E09C5F933]\":\"invoicing fields updated successfully\"}'\n"
     ]
    },
    {
     "name": "stderr",
     "output_type": "stream",
     "text": [
      "\r",
      " 19%|█▉        | 47/248 [00:47<02:49,  1.19it/s]"
     ]
    },
    {
     "name": "stdout",
     "output_type": "stream",
     "text": [
      "\n",
      "Status_code =  200 response content =  b'{\"customerId[BAA011B149E041769D5F9B9A34AB1D07]\":\"invoicing fields updated successfully\"}'\n"
     ]
    },
    {
     "name": "stderr",
     "output_type": "stream",
     "text": [
      "\r",
      " 19%|█▉        | 48/248 [00:48<02:57,  1.13it/s]"
     ]
    },
    {
     "name": "stdout",
     "output_type": "stream",
     "text": [
      "\n",
      "Status_code =  200 response content =  b'{\"customerId[6C18773C78E146A8903097EC3875CB53]\":\"invoicing fields updated successfully\"}'\n"
     ]
    },
    {
     "name": "stderr",
     "output_type": "stream",
     "text": [
      "\r",
      " 20%|█▉        | 49/248 [00:49<02:47,  1.19it/s]"
     ]
    },
    {
     "name": "stdout",
     "output_type": "stream",
     "text": [
      "\n",
      "Status_code =  200 response content =  b'{\"customerId[452FAA41D3D44AC294616D229A1C8C6A]\":\"invoicing fields updated successfully\"}'\n"
     ]
    },
    {
     "name": "stderr",
     "output_type": "stream",
     "text": [
      "\r",
      " 20%|██        | 50/248 [00:49<02:43,  1.21it/s]"
     ]
    },
    {
     "name": "stdout",
     "output_type": "stream",
     "text": [
      "\n",
      "Status_code =  200 response content =  b'{\"customerId[0797D3D63D0846CD9D3CAE90B0CCBCE5]\":\"invoicing fields updated successfully\"}'\n"
     ]
    },
    {
     "name": "stderr",
     "output_type": "stream",
     "text": [
      "\r",
      " 21%|██        | 51/248 [00:50<02:43,  1.20it/s]"
     ]
    },
    {
     "name": "stdout",
     "output_type": "stream",
     "text": [
      "\n",
      "Status_code =  200 response content =  b'{\"customerId[411D4CEBDC4A4E40BAE41A59BA98D6AF]\":\"invoicing fields updated successfully\"}'\n"
     ]
    },
    {
     "name": "stderr",
     "output_type": "stream",
     "text": [
      "\r",
      " 21%|██        | 52/248 [00:51<02:36,  1.25it/s]"
     ]
    },
    {
     "name": "stdout",
     "output_type": "stream",
     "text": [
      "\n",
      "Status_code =  200 response content =  b'{\"customerId[F279F00442AC4DFF9B821A6526AB3B41]\":\"invoicing fields updated successfully\"}'\n"
     ]
    },
    {
     "name": "stderr",
     "output_type": "stream",
     "text": [
      "\r",
      " 21%|██▏       | 53/248 [00:52<02:46,  1.17it/s]"
     ]
    },
    {
     "name": "stdout",
     "output_type": "stream",
     "text": [
      "\n",
      "Status_code =  200 response content =  b'{\"customerId[7F1E898371EF46A6B7476D1D3C8D56EB]\":\"invoicing fields updated successfully\"}'\n"
     ]
    },
    {
     "name": "stderr",
     "output_type": "stream",
     "text": [
      "\r",
      " 22%|██▏       | 54/248 [00:53<02:37,  1.23it/s]"
     ]
    },
    {
     "name": "stdout",
     "output_type": "stream",
     "text": [
      "\n",
      "Status_code =  200 response content =  b'{\"customerId[E429FF1007B544F2A923B696F283CED9]\":\"invoicing fields updated successfully\"}'\n"
     ]
    },
    {
     "name": "stderr",
     "output_type": "stream",
     "text": [
      "\r",
      " 22%|██▏       | 55/248 [00:53<02:30,  1.28it/s]"
     ]
    },
    {
     "name": "stdout",
     "output_type": "stream",
     "text": [
      "\n",
      "Status_code =  200 response content =  b'{\"customerId[60BB13FA9D4A4A09A92408C5A98D5CF4]\":\"invoicing fields updated successfully\"}'\n"
     ]
    },
    {
     "name": "stderr",
     "output_type": "stream",
     "text": [
      "\r",
      " 23%|██▎       | 56/248 [00:54<02:34,  1.24it/s]"
     ]
    },
    {
     "name": "stdout",
     "output_type": "stream",
     "text": [
      "\n",
      "Status_code =  200 response content =  b'{\"customerId[4AABAEB4B0214F298E33D3B5D68FF9DB]\":\"invoicing fields updated successfully\"}'\n"
     ]
    },
    {
     "name": "stderr",
     "output_type": "stream",
     "text": [
      "\r",
      " 23%|██▎       | 57/248 [00:55<02:27,  1.29it/s]"
     ]
    },
    {
     "name": "stdout",
     "output_type": "stream",
     "text": [
      "\n",
      "Status_code =  200 response content =  b'{\"customerId[8CF1D144934646C69B4D19DE9D3EBED5]\":\"invoicing fields updated successfully\"}'\n"
     ]
    },
    {
     "name": "stderr",
     "output_type": "stream",
     "text": [
      "\r",
      " 23%|██▎       | 58/248 [00:56<02:28,  1.28it/s]"
     ]
    },
    {
     "name": "stdout",
     "output_type": "stream",
     "text": [
      "\n",
      "Status_code =  200 response content =  b'{\"customerId[7DB5D76A842F4EE0A300EC1E59BE445B]\":\"invoicing fields updated successfully\"}'\n"
     ]
    },
    {
     "name": "stderr",
     "output_type": "stream",
     "text": [
      "\r",
      " 24%|██▍       | 59/248 [00:57<02:26,  1.29it/s]"
     ]
    },
    {
     "name": "stdout",
     "output_type": "stream",
     "text": [
      "\n",
      "Status_code =  200 response content =  b'{\"customerId[2D6535A16C8C4C79B84597C3F4A740D9]\":\"invoicing fields updated successfully\"}'\n"
     ]
    },
    {
     "name": "stderr",
     "output_type": "stream",
     "text": [
      "\r",
      " 24%|██▍       | 60/248 [00:57<02:23,  1.31it/s]"
     ]
    },
    {
     "name": "stdout",
     "output_type": "stream",
     "text": [
      "\n",
      "Status_code =  200 response content =  b'{\"customerId[EA549239022746068BDB3336DE9E2638]\":\"invoicing fields updated successfully\"}'\n"
     ]
    },
    {
     "name": "stderr",
     "output_type": "stream",
     "text": [
      "\r",
      " 25%|██▍       | 61/248 [00:58<02:21,  1.33it/s]"
     ]
    },
    {
     "name": "stdout",
     "output_type": "stream",
     "text": [
      "\n",
      "Status_code =  200 response content =  b'{\"customerId[9197FFC322244E948E0407DB4804D435]\":\"invoicing fields updated successfully\"}'\n"
     ]
    },
    {
     "name": "stderr",
     "output_type": "stream",
     "text": [
      "\r",
      " 25%|██▌       | 62/248 [00:59<02:17,  1.35it/s]"
     ]
    },
    {
     "name": "stdout",
     "output_type": "stream",
     "text": [
      "\n",
      "Status_code =  200 response content =  b'{\"customerId[B53AA4A7CDB5423A9BF5AFE6EF9BF510]\":\"invoicing fields updated successfully\"}'\n"
     ]
    },
    {
     "name": "stderr",
     "output_type": "stream",
     "text": [
      "\r",
      " 25%|██▌       | 63/248 [00:59<02:20,  1.32it/s]"
     ]
    },
    {
     "name": "stdout",
     "output_type": "stream",
     "text": [
      "\n",
      "Status_code =  200 response content =  b'{\"customerId[775781D82EC44A1A923CC5CDE3F52766]\":\"invoicing fields updated successfully\"}'\n"
     ]
    },
    {
     "name": "stderr",
     "output_type": "stream",
     "text": [
      "\r",
      " 26%|██▌       | 64/248 [01:00<02:28,  1.24it/s]"
     ]
    },
    {
     "name": "stdout",
     "output_type": "stream",
     "text": [
      "\n",
      "Status_code =  200 response content =  b'{\"customerId[9DD286887E04435BA055B26987704273]\":\"invoicing fields updated successfully\"}'\n"
     ]
    },
    {
     "name": "stderr",
     "output_type": "stream",
     "text": [
      "\r",
      " 26%|██▌       | 65/248 [01:01<02:34,  1.18it/s]"
     ]
    },
    {
     "name": "stdout",
     "output_type": "stream",
     "text": [
      "\n",
      "Status_code =  200 response content =  b'{\"customerId[66F910F08DE94B158E9E58BD75CA5344]\":\"invoicing fields updated successfully\"}'\n"
     ]
    },
    {
     "name": "stderr",
     "output_type": "stream",
     "text": [
      "\r",
      " 27%|██▋       | 66/248 [01:02<02:29,  1.22it/s]"
     ]
    },
    {
     "name": "stdout",
     "output_type": "stream",
     "text": [
      "\n",
      "Status_code =  200 response content =  b'{\"customerId[A2E68E1213C54E27811AEDDC364CB73F]\":\"invoicing fields updated successfully\"}'\n"
     ]
    },
    {
     "name": "stderr",
     "output_type": "stream",
     "text": [
      "\r",
      " 27%|██▋       | 67/248 [01:03<02:32,  1.19it/s]"
     ]
    },
    {
     "name": "stdout",
     "output_type": "stream",
     "text": [
      "\n",
      "Status_code =  200 response content =  b'{\"customerId[DB06A30EA75B4818BC458E952451F229]\":\"invoicing fields updated successfully\"}'\n"
     ]
    },
    {
     "name": "stderr",
     "output_type": "stream",
     "text": [
      "\r",
      " 27%|██▋       | 68/248 [01:04<02:34,  1.16it/s]"
     ]
    },
    {
     "name": "stdout",
     "output_type": "stream",
     "text": [
      "\n",
      "Status_code =  200 response content =  b'{\"customerId[A628B6E06BAA4542AEBEA02E43DD21D4]\":\"invoicing fields updated successfully\"}'\n"
     ]
    },
    {
     "name": "stderr",
     "output_type": "stream",
     "text": [
      "\r",
      " 28%|██▊       | 69/248 [01:05<02:33,  1.16it/s]"
     ]
    },
    {
     "name": "stdout",
     "output_type": "stream",
     "text": [
      "\n",
      "Status_code =  200 response content =  b'{\"customerId[A77F42D9FF9F450491E8F5BB13EAFC4A]\":\"invoicing fields updated successfully\"}'\n"
     ]
    },
    {
     "name": "stderr",
     "output_type": "stream",
     "text": [
      "\r",
      " 28%|██▊       | 70/248 [01:06<02:33,  1.16it/s]"
     ]
    },
    {
     "name": "stdout",
     "output_type": "stream",
     "text": [
      "\n",
      "Status_code =  200 response content =  b'{\"customerId[122D807CAD1948098907EF64695DDD38]\":\"invoicing fields updated successfully\"}'\n"
     ]
    },
    {
     "name": "stderr",
     "output_type": "stream",
     "text": [
      "\r",
      " 29%|██▊       | 71/248 [01:06<02:27,  1.20it/s]"
     ]
    },
    {
     "name": "stdout",
     "output_type": "stream",
     "text": [
      "\n",
      "Status_code =  200 response content =  b'{\"customerId[76D89EACAACB4C2286CCA0662A51E692]\":\"invoicing fields updated successfully\"}'\n"
     ]
    },
    {
     "name": "stderr",
     "output_type": "stream",
     "text": [
      "\r",
      " 29%|██▉       | 72/248 [01:07<02:17,  1.28it/s]"
     ]
    },
    {
     "name": "stdout",
     "output_type": "stream",
     "text": [
      "\n",
      "Status_code =  200 response content =  b'{\"customerId[F4B5C8DBBADC404B882DA56C4B436977]\":\"invoicing fields updated successfully\"}'\n"
     ]
    },
    {
     "name": "stderr",
     "output_type": "stream",
     "text": [
      "\r",
      " 29%|██▉       | 73/248 [01:08<02:15,  1.29it/s]"
     ]
    },
    {
     "name": "stdout",
     "output_type": "stream",
     "text": [
      "\n",
      "Status_code =  200 response content =  b'{\"customerId[D01A607CF14A4F8BAC6CF9BFAF194EFA]\":\"invoicing fields updated successfully\"}'\n"
     ]
    },
    {
     "name": "stderr",
     "output_type": "stream",
     "text": [
      "\r",
      " 30%|██▉       | 74/248 [01:09<02:10,  1.33it/s]"
     ]
    },
    {
     "name": "stdout",
     "output_type": "stream",
     "text": [
      "\n",
      "Status_code =  200 response content =  b'{\"customerId[C22A739AD9954293A142E0C354C48ECB]\":\"invoicing fields updated successfully\"}'\n"
     ]
    },
    {
     "name": "stderr",
     "output_type": "stream",
     "text": [
      "\r",
      " 30%|███       | 75/248 [01:09<02:11,  1.32it/s]"
     ]
    },
    {
     "name": "stdout",
     "output_type": "stream",
     "text": [
      "\n",
      "Status_code =  200 response content =  b'{\"customerId[C1C333DEA3654F66B19D5A99B6ECAF53]\":\"invoicing fields updated successfully\"}'\n"
     ]
    },
    {
     "name": "stderr",
     "output_type": "stream",
     "text": [
      "\r",
      " 31%|███       | 76/248 [01:10<02:16,  1.26it/s]"
     ]
    },
    {
     "name": "stdout",
     "output_type": "stream",
     "text": [
      "\n",
      "Status_code =  200 response content =  b'{\"customerId[A59D01F6DA2C48B9B480CA837891C2B1]\":\"invoicing fields updated successfully\"}'\n"
     ]
    },
    {
     "name": "stderr",
     "output_type": "stream",
     "text": [
      "\r",
      " 31%|███       | 77/248 [01:11<02:17,  1.25it/s]"
     ]
    },
    {
     "name": "stdout",
     "output_type": "stream",
     "text": [
      "\n",
      "Status_code =  200 response content =  b'{\"customerId[893F973086FC4C858617100ED1CBA3A6]\":\"invoicing fields updated successfully\"}'\n"
     ]
    },
    {
     "name": "stderr",
     "output_type": "stream",
     "text": [
      "\r",
      " 31%|███▏      | 78/248 [01:12<02:28,  1.15it/s]"
     ]
    },
    {
     "name": "stdout",
     "output_type": "stream",
     "text": [
      "\n",
      "Status_code =  200 response content =  b'{\"customerId[5C9ECD4D3D4B4BB8B37E156D6DDF6D8D]\":\"invoicing fields updated successfully\"}'\n"
     ]
    },
    {
     "name": "stderr",
     "output_type": "stream",
     "text": [
      "\r",
      " 32%|███▏      | 79/248 [01:13<02:29,  1.13it/s]"
     ]
    },
    {
     "name": "stdout",
     "output_type": "stream",
     "text": [
      "\n",
      "Status_code =  200 response content =  b'{\"customerId[A39887479168436BBB61488BB7BE67FE]\":\"invoicing fields updated successfully\"}'\n"
     ]
    },
    {
     "name": "stderr",
     "output_type": "stream",
     "text": [
      "\r",
      " 32%|███▏      | 80/248 [01:14<02:16,  1.23it/s]"
     ]
    },
    {
     "name": "stdout",
     "output_type": "stream",
     "text": [
      "\n",
      "Status_code =  200 response content =  b'{\"customerId[728959DB68EA46DBB8078A70BBDF43B9]\":\"invoicing fields updated successfully\"}'\n"
     ]
    },
    {
     "name": "stderr",
     "output_type": "stream",
     "text": [
      "\r",
      " 33%|███▎      | 81/248 [01:14<02:15,  1.23it/s]"
     ]
    },
    {
     "name": "stdout",
     "output_type": "stream",
     "text": [
      "\n",
      "Status_code =  200 response content =  b'{\"customerId[547587DE008143AE9ED3BC0661492628]\":\"invoicing fields updated successfully\"}'\n"
     ]
    },
    {
     "name": "stderr",
     "output_type": "stream",
     "text": [
      "\r",
      " 33%|███▎      | 82/248 [01:15<02:15,  1.23it/s]"
     ]
    },
    {
     "name": "stdout",
     "output_type": "stream",
     "text": [
      "\n",
      "Status_code =  200 response content =  b'{\"customerId[C9993E5EC355443ABC4DC4C70F803444]\":\"invoicing fields updated successfully\"}'\n"
     ]
    },
    {
     "name": "stderr",
     "output_type": "stream",
     "text": [
      "\r",
      " 33%|███▎      | 83/248 [01:16<02:16,  1.21it/s]"
     ]
    },
    {
     "name": "stdout",
     "output_type": "stream",
     "text": [
      "\n",
      "Status_code =  200 response content =  b'{\"customerId[962C627718A74A3B97DDD967F66F2CD1]\":\"invoicing fields updated successfully\"}'\n"
     ]
    },
    {
     "name": "stderr",
     "output_type": "stream",
     "text": [
      "\r",
      " 34%|███▍      | 84/248 [01:17<02:12,  1.23it/s]"
     ]
    },
    {
     "name": "stdout",
     "output_type": "stream",
     "text": [
      "\n",
      "Status_code =  200 response content =  b'{\"customerId[2D589A9B7B64414FBAC131DD20CE96CF]\":\"invoicing fields updated successfully\"}'\n"
     ]
    },
    {
     "name": "stderr",
     "output_type": "stream",
     "text": [
      "\r",
      " 34%|███▍      | 85/248 [01:18<02:05,  1.30it/s]"
     ]
    },
    {
     "name": "stdout",
     "output_type": "stream",
     "text": [
      "\n",
      "Status_code =  200 response content =  b'{\"customerId[57BDA13E78CF4978AAED5A104E06CCFA]\":\"invoicing fields updated successfully\"}'\n"
     ]
    },
    {
     "name": "stderr",
     "output_type": "stream",
     "text": [
      "\r",
      " 35%|███▍      | 86/248 [01:18<02:05,  1.29it/s]"
     ]
    },
    {
     "name": "stdout",
     "output_type": "stream",
     "text": [
      "\n",
      "Status_code =  200 response content =  b'{\"customerId[8266FF02EA05487EA101C0DC81D41C8D]\":\"invoicing fields updated successfully\"}'\n"
     ]
    },
    {
     "name": "stderr",
     "output_type": "stream",
     "text": [
      "\r",
      " 35%|███▌      | 87/248 [01:20<02:53,  1.08s/it]"
     ]
    },
    {
     "name": "stdout",
     "output_type": "stream",
     "text": [
      "\n",
      "Status_code =  200 response content =  b'{\"customerId[FE3C864273504ADF938E4566A7EFB12F]\":\"invoicing fields updated successfully\"}'\n"
     ]
    },
    {
     "name": "stderr",
     "output_type": "stream",
     "text": [
      "\r",
      " 35%|███▌      | 88/248 [01:21<02:49,  1.06s/it]"
     ]
    },
    {
     "name": "stdout",
     "output_type": "stream",
     "text": [
      "\n",
      "Status_code =  200 response content =  b'{\"customerId[035F6E96558843559027141A5ACAC6D4]\":\"invoicing fields updated successfully\"}'\n"
     ]
    },
    {
     "name": "stderr",
     "output_type": "stream",
     "text": [
      "\r",
      " 36%|███▌      | 89/248 [01:22<02:42,  1.02s/it]"
     ]
    },
    {
     "name": "stdout",
     "output_type": "stream",
     "text": [
      "\n",
      "Status_code =  200 response content =  b'{\"customerId[C4A8E6FA0CA94E7B865B579B05719FDB]\":\"invoicing fields updated successfully\"}'\n"
     ]
    },
    {
     "name": "stderr",
     "output_type": "stream",
     "text": [
      "\r",
      " 36%|███▋      | 90/248 [01:23<02:42,  1.03s/it]"
     ]
    },
    {
     "name": "stdout",
     "output_type": "stream",
     "text": [
      "\n",
      "Status_code =  200 response content =  b'{\"customerId[BE1A94B0BA064DB9A2134BB9510A6681]\":\"invoicing fields updated successfully\"}'\n"
     ]
    },
    {
     "name": "stderr",
     "output_type": "stream",
     "text": [
      "\r",
      " 37%|███▋      | 91/248 [01:24<02:27,  1.07it/s]"
     ]
    },
    {
     "name": "stdout",
     "output_type": "stream",
     "text": [
      "\n",
      "Status_code =  200 response content =  b'{\"customerId[A6111DE863794F4DBC90B562D6F4B865]\":\"invoicing fields updated successfully\"}'\n"
     ]
    },
    {
     "name": "stderr",
     "output_type": "stream",
     "text": [
      "\r",
      " 37%|███▋      | 92/248 [01:25<02:26,  1.06it/s]"
     ]
    },
    {
     "name": "stdout",
     "output_type": "stream",
     "text": [
      "\n",
      "Status_code =  200 response content =  b'{\"customerId[0A2D731C33634CFEAA797B27F24F6E4F]\":\"invoicing fields updated successfully\"}'\n"
     ]
    },
    {
     "name": "stderr",
     "output_type": "stream",
     "text": [
      "\r",
      " 38%|███▊      | 93/248 [01:26<02:25,  1.07it/s]"
     ]
    },
    {
     "name": "stdout",
     "output_type": "stream",
     "text": [
      "\n",
      "Status_code =  200 response content =  b'{\"customerId[A878C42E7C534E03B5B32E252F131AE0]\":\"invoicing fields updated successfully\"}'\n"
     ]
    },
    {
     "name": "stderr",
     "output_type": "stream",
     "text": [
      "\r",
      " 38%|███▊      | 94/248 [01:26<02:17,  1.12it/s]"
     ]
    },
    {
     "name": "stdout",
     "output_type": "stream",
     "text": [
      "\n",
      "Status_code =  200 response content =  b'{\"customerId[DBDE5BED380743B2A474BAFAFA79A628]\":\"invoicing fields updated successfully\"}'\n"
     ]
    },
    {
     "name": "stderr",
     "output_type": "stream",
     "text": [
      "\r",
      " 38%|███▊      | 95/248 [01:27<02:19,  1.09it/s]"
     ]
    },
    {
     "name": "stdout",
     "output_type": "stream",
     "text": [
      "\n",
      "Status_code =  200 response content =  b'{\"customerId[34DE55F2BD4444EBB69E4455A4FB20A2]\":\"invoicing fields updated successfully\"}'\n"
     ]
    },
    {
     "name": "stderr",
     "output_type": "stream",
     "text": [
      "\r",
      " 39%|███▊      | 96/248 [01:29<02:30,  1.01it/s]"
     ]
    },
    {
     "name": "stdout",
     "output_type": "stream",
     "text": [
      "\n",
      "Status_code =  200 response content =  b'{\"customerId[2934220C89F64D3D926FD0E83D296BF6]\":\"invoicing fields updated successfully\"}'\n"
     ]
    },
    {
     "name": "stderr",
     "output_type": "stream",
     "text": [
      "\r",
      " 39%|███▉      | 97/248 [01:29<02:22,  1.06it/s]"
     ]
    },
    {
     "name": "stdout",
     "output_type": "stream",
     "text": [
      "\n",
      "Status_code =  200 response content =  b'{\"customerId[A3AD8CE9628B42BA8BC710E70E3BF1F0]\":\"invoicing fields updated successfully\"}'\n"
     ]
    },
    {
     "name": "stderr",
     "output_type": "stream",
     "text": [
      "\r",
      " 40%|███▉      | 98/248 [01:30<02:24,  1.03it/s]"
     ]
    },
    {
     "name": "stdout",
     "output_type": "stream",
     "text": [
      "\n",
      "Status_code =  200 response content =  b'{\"customerId[2D717944C9C349F79A9C84324B2F06C5]\":\"invoicing fields updated successfully\"}'\n"
     ]
    },
    {
     "name": "stderr",
     "output_type": "stream",
     "text": [
      "\r",
      " 40%|███▉      | 99/248 [01:31<02:18,  1.08it/s]"
     ]
    },
    {
     "name": "stdout",
     "output_type": "stream",
     "text": [
      "\n",
      "Status_code =  200 response content =  b'{\"customerId[1567875194124C6990314F6C925D3D21]\":\"invoicing fields updated successfully\"}'\n"
     ]
    },
    {
     "name": "stderr",
     "output_type": "stream",
     "text": [
      "\r",
      " 40%|████      | 100/248 [01:32<02:19,  1.06it/s]"
     ]
    },
    {
     "name": "stdout",
     "output_type": "stream",
     "text": [
      "\n",
      "Status_code =  200 response content =  b'{\"customerId[183A9205E84A450390A1E8D4614730D7]\":\"invoicing fields updated successfully\"}'\n"
     ]
    },
    {
     "name": "stderr",
     "output_type": "stream",
     "text": [
      "\r",
      " 41%|████      | 101/248 [01:33<02:08,  1.14it/s]"
     ]
    },
    {
     "name": "stdout",
     "output_type": "stream",
     "text": [
      "\n",
      "Status_code =  200 response content =  b'{\"customerId[AB0BC54BA5214301A08EB231DAFF74E3]\":\"invoicing fields updated successfully\"}'\n"
     ]
    },
    {
     "name": "stderr",
     "output_type": "stream",
     "text": [
      "\r",
      " 41%|████      | 102/248 [01:34<02:18,  1.06it/s]"
     ]
    },
    {
     "name": "stdout",
     "output_type": "stream",
     "text": [
      "\n",
      "Status_code =  200 response content =  b'{\"customerId[D3EA02F2E1D74C51AC7418F141DB7CE6]\":\"invoicing fields updated successfully\"}'\n"
     ]
    },
    {
     "name": "stderr",
     "output_type": "stream",
     "text": [
      "\r",
      " 42%|████▏     | 103/248 [01:36<02:40,  1.11s/it]"
     ]
    },
    {
     "name": "stdout",
     "output_type": "stream",
     "text": [
      "\n",
      "Status_code =  200 response content =  b'{\"customerId[941AD80EB27640249ADE0CB1CE67AE88]\":\"invoicing fields updated successfully\"}'\n"
     ]
    },
    {
     "name": "stderr",
     "output_type": "stream",
     "text": [
      "\r",
      " 42%|████▏     | 104/248 [01:37<02:42,  1.13s/it]"
     ]
    },
    {
     "name": "stdout",
     "output_type": "stream",
     "text": [
      "\n",
      "Status_code =  200 response content =  b'{\"customerId[7923278744F24208A531AB44EC45D01F]\":\"invoicing fields updated successfully\"}'\n"
     ]
    },
    {
     "name": "stderr",
     "output_type": "stream",
     "text": [
      "\r",
      " 42%|████▏     | 105/248 [01:38<02:38,  1.11s/it]"
     ]
    },
    {
     "name": "stdout",
     "output_type": "stream",
     "text": [
      "\n",
      "Status_code =  200 response content =  b'{\"customerId[946A1CEF08004989905EFE59F7DC5D5D]\":\"invoicing fields updated successfully\"}'\n"
     ]
    },
    {
     "name": "stderr",
     "output_type": "stream",
     "text": [
      "\r",
      " 43%|████▎     | 106/248 [01:39<02:23,  1.01s/it]"
     ]
    },
    {
     "name": "stdout",
     "output_type": "stream",
     "text": [
      "\n",
      "Status_code =  200 response content =  b'{\"customerId[063C6C32CF8E449ABDFE5951597B7129]\":\"invoicing fields updated successfully\"}'\n"
     ]
    },
    {
     "name": "stderr",
     "output_type": "stream",
     "text": [
      "\r",
      " 43%|████▎     | 107/248 [01:40<02:32,  1.08s/it]"
     ]
    },
    {
     "name": "stdout",
     "output_type": "stream",
     "text": [
      "\n",
      "Status_code =  200 response content =  b'{\"customerId[5BD8CF6BF5404512B2AC374CD587DAD1]\":\"invoicing fields updated successfully\"}'\n"
     ]
    },
    {
     "name": "stderr",
     "output_type": "stream",
     "text": [
      "\r",
      " 44%|████▎     | 108/248 [01:41<02:33,  1.09s/it]"
     ]
    },
    {
     "name": "stdout",
     "output_type": "stream",
     "text": [
      "\n",
      "Status_code =  200 response content =  b'{\"customerId[C73EFC5F4C2E4A8EB0A82D6530DD9027]\":\"invoicing fields updated successfully\"}'\n"
     ]
    },
    {
     "name": "stderr",
     "output_type": "stream",
     "text": [
      "\r",
      " 44%|████▍     | 109/248 [01:42<02:26,  1.05s/it]"
     ]
    },
    {
     "name": "stdout",
     "output_type": "stream",
     "text": [
      "\n",
      "Status_code =  200 response content =  b'{\"customerId[8981ACDBAF7B476FA9FB490BADC3A91A]\":\"invoicing fields updated successfully\"}'\n"
     ]
    },
    {
     "name": "stderr",
     "output_type": "stream",
     "text": [
      "\r",
      " 44%|████▍     | 110/248 [01:43<02:37,  1.14s/it]"
     ]
    },
    {
     "name": "stdout",
     "output_type": "stream",
     "text": [
      "\n",
      "Status_code =  200 response content =  b'{\"customerId[79BB071856A345BDAB5CC585BAF06322]\":\"invoicing fields updated successfully\"}'\n"
     ]
    },
    {
     "name": "stderr",
     "output_type": "stream",
     "text": [
      "\r",
      " 45%|████▍     | 111/248 [01:45<02:47,  1.22s/it]"
     ]
    },
    {
     "name": "stdout",
     "output_type": "stream",
     "text": [
      "\n",
      "Status_code =  200 response content =  b'{\"customerId[CE357078BF0F4275970FC701A746704D]\":\"invoicing fields updated successfully\"}'\n"
     ]
    },
    {
     "name": "stderr",
     "output_type": "stream",
     "text": [
      "\r",
      " 45%|████▌     | 112/248 [01:46<02:36,  1.15s/it]"
     ]
    },
    {
     "name": "stdout",
     "output_type": "stream",
     "text": [
      "\n",
      "Status_code =  200 response content =  b'{\"customerId[667773F4F28B47A0AE1E9ACAEB23D1E8]\":\"invoicing fields updated successfully\"}'\n"
     ]
    },
    {
     "name": "stderr",
     "output_type": "stream",
     "text": [
      "\r",
      " 46%|████▌     | 113/248 [01:47<02:27,  1.09s/it]"
     ]
    },
    {
     "name": "stdout",
     "output_type": "stream",
     "text": [
      "\n",
      "Status_code =  200 response content =  b'{\"customerId[979392303C564E07932839CA6800C181]\":\"invoicing fields updated successfully\"}'\n"
     ]
    },
    {
     "name": "stderr",
     "output_type": "stream",
     "text": [
      "\r",
      " 46%|████▌     | 114/248 [01:48<02:27,  1.10s/it]"
     ]
    },
    {
     "name": "stdout",
     "output_type": "stream",
     "text": [
      "\n",
      "Status_code =  200 response content =  b'{\"customerId[C1CEE64565F1423090A6197BCB490A7B]\":\"invoicing fields updated successfully\"}'\n"
     ]
    },
    {
     "name": "stderr",
     "output_type": "stream",
     "text": [
      "\r",
      " 46%|████▋     | 115/248 [01:49<02:32,  1.15s/it]"
     ]
    },
    {
     "name": "stdout",
     "output_type": "stream",
     "text": [
      "\n",
      "Status_code =  200 response content =  b'{\"customerId[67AB5631FE5F4168AA55089E89F26A15]\":\"invoicing fields updated successfully\"}'\n"
     ]
    },
    {
     "name": "stderr",
     "output_type": "stream",
     "text": [
      "\r",
      " 47%|████▋     | 116/248 [01:50<02:18,  1.05s/it]"
     ]
    },
    {
     "name": "stdout",
     "output_type": "stream",
     "text": [
      "\n",
      "Status_code =  200 response content =  b'{\"customerId[ABCA5B679BE84FB88078CF5431C64B37]\":\"invoicing fields updated successfully\"}'\n"
     ]
    },
    {
     "name": "stderr",
     "output_type": "stream",
     "text": [
      "\r",
      " 47%|████▋     | 117/248 [01:52<02:51,  1.31s/it]"
     ]
    },
    {
     "name": "stdout",
     "output_type": "stream",
     "text": [
      "\n",
      "Status_code =  200 response content =  b'{\"customerId[9498472C22744003BC2989A61C209AD2]\":\"invoicing fields updated successfully\"}'\n"
     ]
    },
    {
     "name": "stderr",
     "output_type": "stream",
     "text": [
      "\r",
      " 48%|████▊     | 118/248 [01:53<02:30,  1.16s/it]"
     ]
    },
    {
     "name": "stdout",
     "output_type": "stream",
     "text": [
      "\n",
      "Status_code =  200 response content =  b'{\"customerId[B53E1BA3A5D348FF92DA3298E9B1A9EF]\":\"invoicing fields updated successfully\"}'\n"
     ]
    },
    {
     "name": "stderr",
     "output_type": "stream",
     "text": [
      "\r",
      " 48%|████▊     | 119/248 [01:54<02:35,  1.20s/it]"
     ]
    },
    {
     "name": "stdout",
     "output_type": "stream",
     "text": [
      "\n",
      "Status_code =  200 response content =  b'{\"customerId[6F4AFD2B8CCB4221A58E1825D3530BD7]\":\"invoicing fields updated successfully\"}'\n"
     ]
    },
    {
     "name": "stderr",
     "output_type": "stream",
     "text": [
      "\r",
      " 48%|████▊     | 120/248 [01:55<02:24,  1.13s/it]"
     ]
    },
    {
     "name": "stdout",
     "output_type": "stream",
     "text": [
      "\n",
      "Status_code =  200 response content =  b'{\"customerId[068CF4320146467580D4B4FDBD080161]\":\"invoicing fields updated successfully\"}'\n"
     ]
    },
    {
     "name": "stderr",
     "output_type": "stream",
     "text": [
      "\r",
      " 49%|████▉     | 121/248 [01:56<02:34,  1.22s/it]"
     ]
    },
    {
     "name": "stdout",
     "output_type": "stream",
     "text": [
      "\n",
      "Status_code =  200 response content =  b'{\"customerId[01298BCBE23E462AA2581928F9C38D0B]\":\"invoicing fields updated successfully\"}'\n"
     ]
    },
    {
     "name": "stderr",
     "output_type": "stream",
     "text": [
      "\r",
      " 49%|████▉     | 122/248 [01:58<02:40,  1.27s/it]"
     ]
    },
    {
     "name": "stdout",
     "output_type": "stream",
     "text": [
      "\n",
      "Status_code =  200 response content =  b'{\"customerId[99209EDB6AC645E0B5E9FAFC1576C85A]\":\"invoicing fields updated successfully\"}'\n"
     ]
    },
    {
     "name": "stderr",
     "output_type": "stream",
     "text": [
      "\r",
      " 50%|████▉     | 123/248 [01:59<02:40,  1.28s/it]"
     ]
    },
    {
     "name": "stdout",
     "output_type": "stream",
     "text": [
      "\n",
      "Status_code =  200 response content =  b'{\"customerId[87120CCA12B24A788343219C4A5FFBAF]\":\"invoicing fields updated successfully\"}'\n"
     ]
    },
    {
     "name": "stderr",
     "output_type": "stream",
     "text": [
      "\r",
      " 50%|█████     | 124/248 [02:00<02:25,  1.17s/it]"
     ]
    },
    {
     "name": "stdout",
     "output_type": "stream",
     "text": [
      "\n",
      "Status_code =  200 response content =  b'{\"customerId[749B0E240A5A4653B72606256A3B9E28]\":\"invoicing fields updated successfully\"}'\n"
     ]
    },
    {
     "name": "stderr",
     "output_type": "stream",
     "text": [
      "\r",
      " 50%|█████     | 125/248 [02:01<02:24,  1.18s/it]"
     ]
    },
    {
     "name": "stdout",
     "output_type": "stream",
     "text": [
      "\n",
      "Status_code =  200 response content =  b'{\"customerId[5E39AB7725504E00BCC557A8C5E9D55F]\":\"invoicing fields updated successfully\"}'\n"
     ]
    },
    {
     "name": "stderr",
     "output_type": "stream",
     "text": [
      "\r",
      " 51%|█████     | 126/248 [02:03<03:01,  1.49s/it]"
     ]
    },
    {
     "name": "stdout",
     "output_type": "stream",
     "text": [
      "\n",
      "Status_code =  200 response content =  b'{\"customerId[2B3E75957EDC4552827D255E6AC4616F]\":\"invoicing fields updated successfully\"}'\n"
     ]
    },
    {
     "name": "stderr",
     "output_type": "stream",
     "text": [
      "\r",
      " 51%|█████     | 127/248 [02:04<02:43,  1.35s/it]"
     ]
    },
    {
     "name": "stdout",
     "output_type": "stream",
     "text": [
      "\n",
      "Status_code =  200 response content =  b'{\"customerId[4963D7612C07418888EEAD8F466306A5]\":\"invoicing fields updated successfully\"}'\n"
     ]
    },
    {
     "name": "stderr",
     "output_type": "stream",
     "text": [
      "\r",
      " 52%|█████▏    | 128/248 [02:05<02:20,  1.17s/it]"
     ]
    },
    {
     "name": "stdout",
     "output_type": "stream",
     "text": [
      "\n",
      "Status_code =  200 response content =  b'{\"customerId[67123E6463794D99BB4BB2E163C25897]\":\"invoicing fields updated successfully\"}'\n"
     ]
    },
    {
     "name": "stderr",
     "output_type": "stream",
     "text": [
      "\r",
      " 52%|█████▏    | 129/248 [02:06<02:06,  1.06s/it]"
     ]
    },
    {
     "name": "stdout",
     "output_type": "stream",
     "text": [
      "\n",
      "Status_code =  200 response content =  b'{\"customerId[EF37026C75524EB38BCEA590F819698E]\":\"invoicing fields updated successfully\"}'\n"
     ]
    },
    {
     "name": "stderr",
     "output_type": "stream",
     "text": [
      "\r",
      " 52%|█████▏    | 130/248 [02:07<01:53,  1.04it/s]"
     ]
    },
    {
     "name": "stdout",
     "output_type": "stream",
     "text": [
      "\n",
      "Status_code =  200 response content =  b'{\"customerId[04F6F3F0E5154FB298835515D3B39200]\":\"invoicing fields updated successfully\"}'\n"
     ]
    },
    {
     "name": "stderr",
     "output_type": "stream",
     "text": [
      "\r",
      " 53%|█████▎    | 131/248 [02:07<01:49,  1.06it/s]"
     ]
    },
    {
     "name": "stdout",
     "output_type": "stream",
     "text": [
      "\n",
      "Status_code =  200 response content =  b'{\"customerId[C6B0E21354E64A0AB2D61E09E9FA5C64]\":\"invoicing fields updated successfully\"}'\n"
     ]
    },
    {
     "name": "stderr",
     "output_type": "stream",
     "text": [
      "\r",
      " 53%|█████▎    | 132/248 [02:08<01:44,  1.11it/s]"
     ]
    },
    {
     "name": "stdout",
     "output_type": "stream",
     "text": [
      "\n",
      "Status_code =  200 response content =  b'{\"customerId[F362EE80302D4E2681D46E301195ED14]\":\"invoicing fields updated successfully\"}'\n"
     ]
    },
    {
     "name": "stderr",
     "output_type": "stream",
     "text": [
      "\r",
      " 54%|█████▎    | 133/248 [02:09<01:40,  1.15it/s]"
     ]
    },
    {
     "name": "stdout",
     "output_type": "stream",
     "text": [
      "\n",
      "Status_code =  200 response content =  b'{\"customerId[F5D3D92FF1B94CCFBBBEAA7572031E6A]\":\"invoicing fields updated successfully\"}'\n"
     ]
    },
    {
     "name": "stderr",
     "output_type": "stream",
     "text": [
      "\r",
      " 54%|█████▍    | 134/248 [02:10<01:38,  1.16it/s]"
     ]
    },
    {
     "name": "stdout",
     "output_type": "stream",
     "text": [
      "\n",
      "Status_code =  200 response content =  b'{\"customerId[DA69CB85800240DEAD3455A3F2022BCB]\":\"invoicing fields updated successfully\"}'\n"
     ]
    },
    {
     "name": "stderr",
     "output_type": "stream",
     "text": [
      "\r",
      " 54%|█████▍    | 135/248 [02:11<01:35,  1.18it/s]"
     ]
    },
    {
     "name": "stdout",
     "output_type": "stream",
     "text": [
      "\n",
      "Status_code =  200 response content =  b'{\"customerId[D748CFEF16374B63B03C89523518C2C4]\":\"invoicing fields updated successfully\"}'\n"
     ]
    },
    {
     "name": "stderr",
     "output_type": "stream",
     "text": [
      "\r",
      " 55%|█████▍    | 136/248 [02:12<01:33,  1.20it/s]"
     ]
    },
    {
     "name": "stdout",
     "output_type": "stream",
     "text": [
      "\n",
      "Status_code =  200 response content =  b'{\"customerId[B2DC51C7F5EE463DAB7A09D5015512B7]\":\"invoicing fields updated successfully\"}'\n"
     ]
    },
    {
     "name": "stderr",
     "output_type": "stream",
     "text": [
      "\r",
      " 55%|█████▌    | 137/248 [02:12<01:28,  1.25it/s]"
     ]
    },
    {
     "name": "stdout",
     "output_type": "stream",
     "text": [
      "\n",
      "Status_code =  200 response content =  b'{\"customerId[7B6E9C2021F24C8F8D25DC7264631347]\":\"invoicing fields updated successfully\"}'\n"
     ]
    },
    {
     "name": "stderr",
     "output_type": "stream",
     "text": [
      "\r",
      " 56%|█████▌    | 138/248 [02:13<01:27,  1.25it/s]"
     ]
    },
    {
     "name": "stdout",
     "output_type": "stream",
     "text": [
      "\n",
      "Status_code =  200 response content =  b'{\"customerId[7FD4007D7B8C4C0A9E0C440517755678]\":\"invoicing fields updated successfully\"}'\n"
     ]
    },
    {
     "name": "stderr",
     "output_type": "stream",
     "text": [
      "\r",
      " 56%|█████▌    | 139/248 [02:14<01:23,  1.30it/s]"
     ]
    },
    {
     "name": "stdout",
     "output_type": "stream",
     "text": [
      "\n",
      "Status_code =  200 response content =  b'{\"customerId[EB3C723B7C7046D5B206B14625C4EBDB]\":\"invoicing fields updated successfully\"}'\n"
     ]
    },
    {
     "name": "stderr",
     "output_type": "stream",
     "text": [
      "\r",
      " 56%|█████▋    | 140/248 [02:14<01:20,  1.35it/s]"
     ]
    },
    {
     "name": "stdout",
     "output_type": "stream",
     "text": [
      "\n",
      "Status_code =  200 response content =  b'{\"customerId[01215F146EF448D786DBC6497EACEC6C]\":\"invoicing fields updated successfully\"}'\n"
     ]
    },
    {
     "name": "stderr",
     "output_type": "stream",
     "text": [
      "\r",
      " 57%|█████▋    | 141/248 [02:15<01:24,  1.27it/s]"
     ]
    },
    {
     "name": "stdout",
     "output_type": "stream",
     "text": [
      "\n",
      "Status_code =  200 response content =  b'{\"customerId[8E199B74C7724C39BA60D528DDFAF42F]\":\"invoicing fields updated successfully\"}'\n"
     ]
    },
    {
     "name": "stderr",
     "output_type": "stream",
     "text": [
      "\r",
      " 57%|█████▋    | 142/248 [02:16<01:27,  1.21it/s]"
     ]
    },
    {
     "name": "stdout",
     "output_type": "stream",
     "text": [
      "\n",
      "Status_code =  200 response content =  b'{\"customerId[260DBD211013444EB14747B0D850B1BF]\":\"invoicing fields updated successfully\"}'\n"
     ]
    },
    {
     "name": "stderr",
     "output_type": "stream",
     "text": [
      "\r",
      " 58%|█████▊    | 143/248 [02:17<01:25,  1.22it/s]"
     ]
    },
    {
     "name": "stdout",
     "output_type": "stream",
     "text": [
      "\n",
      "Status_code =  200 response content =  b'{\"customerId[6B15C343BC014EBDAA706411E40E41A5]\":\"invoicing fields updated successfully\"}'\n"
     ]
    },
    {
     "name": "stderr",
     "output_type": "stream",
     "text": [
      "\r",
      " 58%|█████▊    | 144/248 [02:18<01:21,  1.27it/s]"
     ]
    },
    {
     "name": "stdout",
     "output_type": "stream",
     "text": [
      "\n",
      "Status_code =  200 response content =  b'{\"customerId[38F8E3489DD84B8F907811EBCE83D3D9]\":\"invoicing fields updated successfully\"}'\n"
     ]
    },
    {
     "name": "stderr",
     "output_type": "stream",
     "text": [
      "\r",
      " 58%|█████▊    | 145/248 [02:19<01:24,  1.22it/s]"
     ]
    },
    {
     "name": "stdout",
     "output_type": "stream",
     "text": [
      "\n",
      "Status_code =  200 response content =  b'{\"customerId[7889CB45837C433E9BFB02CCA88112C5]\":\"invoicing fields updated successfully\"}'\n"
     ]
    },
    {
     "name": "stderr",
     "output_type": "stream",
     "text": [
      "\r",
      " 59%|█████▉    | 146/248 [02:20<01:24,  1.20it/s]"
     ]
    },
    {
     "name": "stdout",
     "output_type": "stream",
     "text": [
      "\n",
      "Status_code =  200 response content =  b'{\"customerId[4737B62F9BCD410596E3A93CD6A5F608]\":\"invoicing fields updated successfully\"}'\n"
     ]
    },
    {
     "name": "stderr",
     "output_type": "stream",
     "text": [
      "\r",
      " 59%|█████▉    | 147/248 [02:20<01:21,  1.25it/s]"
     ]
    },
    {
     "name": "stdout",
     "output_type": "stream",
     "text": [
      "\n",
      "Status_code =  200 response content =  b'{\"customerId[5AB5729BEAEE4FB6B734B0D359591FA7]\":\"invoicing fields updated successfully\"}'\n"
     ]
    },
    {
     "name": "stderr",
     "output_type": "stream",
     "text": [
      "\r",
      " 60%|█████▉    | 148/248 [02:21<01:17,  1.28it/s]"
     ]
    },
    {
     "name": "stdout",
     "output_type": "stream",
     "text": [
      "\n",
      "Status_code =  200 response content =  b'{\"customerId[C388F59C090B4152BD4923AF26CE1C45]\":\"invoicing fields updated successfully\"}'\n"
     ]
    },
    {
     "name": "stderr",
     "output_type": "stream",
     "text": [
      "\r",
      " 60%|██████    | 149/248 [02:22<01:16,  1.30it/s]"
     ]
    },
    {
     "name": "stdout",
     "output_type": "stream",
     "text": [
      "\n",
      "Status_code =  200 response content =  b'{\"customerId[4D74CEAE04C84A16902C51CFAD703C94]\":\"invoicing fields updated successfully\"}'\n"
     ]
    },
    {
     "name": "stderr",
     "output_type": "stream",
     "text": [
      "\r",
      " 60%|██████    | 150/248 [02:23<01:26,  1.13it/s]"
     ]
    },
    {
     "name": "stdout",
     "output_type": "stream",
     "text": [
      "\n",
      "Status_code =  200 response content =  b'{\"customerId[B2529DCF10F54D4D8940A8214AB73941]\":\"invoicing fields updated successfully\"}'\n"
     ]
    },
    {
     "name": "stderr",
     "output_type": "stream",
     "text": [
      "\r",
      " 61%|██████    | 151/248 [02:24<01:35,  1.01it/s]"
     ]
    },
    {
     "name": "stdout",
     "output_type": "stream",
     "text": [
      "\n",
      "Status_code =  200 response content =  b'{\"customerId[72FD176ADF4D473397140721CFC6C0D4]\":\"invoicing fields updated successfully\"}'\n"
     ]
    },
    {
     "name": "stderr",
     "output_type": "stream",
     "text": [
      "\r",
      " 61%|██████▏   | 152/248 [02:25<01:33,  1.02it/s]"
     ]
    },
    {
     "name": "stdout",
     "output_type": "stream",
     "text": [
      "\n",
      "Status_code =  200 response content =  b'{\"customerId[5406DCD1A7254EB8ADF866536B4300C5]\":\"invoicing fields updated successfully\"}'\n"
     ]
    },
    {
     "name": "stderr",
     "output_type": "stream",
     "text": [
      "\r",
      " 62%|██████▏   | 153/248 [02:26<01:26,  1.10it/s]"
     ]
    },
    {
     "name": "stdout",
     "output_type": "stream",
     "text": [
      "\n",
      "Status_code =  200 response content =  b'{\"customerId[CAEFB7C423E14C54AEA437633D6F34BA]\":\"invoicing fields updated successfully\"}'\n"
     ]
    },
    {
     "name": "stderr",
     "output_type": "stream",
     "text": [
      "\r",
      " 62%|██████▏   | 154/248 [02:27<01:23,  1.12it/s]"
     ]
    },
    {
     "name": "stdout",
     "output_type": "stream",
     "text": [
      "\n",
      "Status_code =  200 response content =  b'{\"customerId[2FE90AC4F8784C56A833B157097FC77C]\":\"invoicing fields updated successfully\"}'\n"
     ]
    },
    {
     "name": "stderr",
     "output_type": "stream",
     "text": [
      "\r",
      " 62%|██████▎   | 155/248 [02:28<01:28,  1.05it/s]"
     ]
    },
    {
     "name": "stdout",
     "output_type": "stream",
     "text": [
      "\n",
      "Status_code =  200 response content =  b'{\"customerId[35C5839C5B4544B4A0754DD61BDAC3C7]\":\"invoicing fields updated successfully\"}'\n"
     ]
    },
    {
     "name": "stderr",
     "output_type": "stream",
     "text": [
      "\r",
      " 63%|██████▎   | 156/248 [02:29<01:26,  1.07it/s]"
     ]
    },
    {
     "name": "stdout",
     "output_type": "stream",
     "text": [
      "\n",
      "Status_code =  200 response content =  b'{\"customerId[D204AA968EB347609F8C42EA219B88EF]\":\"invoicing fields updated successfully\"}'\n"
     ]
    },
    {
     "name": "stderr",
     "output_type": "stream",
     "text": [
      "\r",
      " 63%|██████▎   | 157/248 [02:30<01:27,  1.04it/s]"
     ]
    },
    {
     "name": "stdout",
     "output_type": "stream",
     "text": [
      "\n",
      "Status_code =  200 response content =  b'{\"customerId[535CCA50B20B4EC0AA0A6DFC669EFE90]\":\"invoicing fields updated successfully\"}'\n"
     ]
    },
    {
     "name": "stderr",
     "output_type": "stream",
     "text": [
      "\r",
      " 64%|██████▎   | 158/248 [02:31<01:26,  1.04it/s]"
     ]
    },
    {
     "name": "stdout",
     "output_type": "stream",
     "text": [
      "\n",
      "Status_code =  200 response content =  b'{\"customerId[A1D8EBBA64304D8DB83BC02E9E0C5420]\":\"invoicing fields updated successfully\"}'\n"
     ]
    },
    {
     "name": "stderr",
     "output_type": "stream",
     "text": [
      "\r",
      " 64%|██████▍   | 159/248 [02:31<01:22,  1.08it/s]"
     ]
    },
    {
     "name": "stdout",
     "output_type": "stream",
     "text": [
      "\n",
      "Status_code =  200 response content =  b'{\"customerId[853B7420F55548B4852C02EB99F768A1]\":\"invoicing fields updated successfully\"}'\n"
     ]
    },
    {
     "name": "stderr",
     "output_type": "stream",
     "text": [
      "\r",
      " 65%|██████▍   | 160/248 [02:32<01:17,  1.14it/s]"
     ]
    },
    {
     "name": "stdout",
     "output_type": "stream",
     "text": [
      "\n",
      "Status_code =  200 response content =  b'{\"customerId[E53C31AFE31049888F89334F64A21CB6]\":\"invoicing fields updated successfully\"}'\n"
     ]
    },
    {
     "name": "stderr",
     "output_type": "stream",
     "text": [
      "\r",
      " 65%|██████▍   | 161/248 [02:33<01:16,  1.14it/s]"
     ]
    },
    {
     "name": "stdout",
     "output_type": "stream",
     "text": [
      "\n",
      "Status_code =  200 response content =  b'{\"customerId[9A05041170C94C618CA5F761DEF6B86B]\":\"invoicing fields updated successfully\"}'\n"
     ]
    },
    {
     "name": "stderr",
     "output_type": "stream",
     "text": [
      "\r",
      " 65%|██████▌   | 162/248 [02:34<01:12,  1.18it/s]"
     ]
    },
    {
     "name": "stdout",
     "output_type": "stream",
     "text": [
      "\n",
      "Status_code =  200 response content =  b'{\"customerId[FB26A710CD744F33812E9CFF00E4D38D]\":\"invoicing fields updated successfully\"}'\n"
     ]
    },
    {
     "name": "stderr",
     "output_type": "stream",
     "text": [
      "\r",
      " 66%|██████▌   | 163/248 [02:35<01:07,  1.26it/s]"
     ]
    },
    {
     "name": "stdout",
     "output_type": "stream",
     "text": [
      "\n",
      "Status_code =  200 response content =  b'{\"customerId[5C064407273C4562B1D7CE9BDA0AF348]\":\"invoicing fields updated successfully\"}'\n"
     ]
    },
    {
     "name": "stderr",
     "output_type": "stream",
     "text": [
      "\r",
      " 66%|██████▌   | 164/248 [02:36<01:15,  1.11it/s]"
     ]
    },
    {
     "name": "stdout",
     "output_type": "stream",
     "text": [
      "\n",
      "Status_code =  200 response content =  b'{\"customerId[7EB458571603446AB0048BC851318521]\":\"invoicing fields updated successfully\"}'\n"
     ]
    },
    {
     "name": "stderr",
     "output_type": "stream",
     "text": [
      "\r",
      " 67%|██████▋   | 165/248 [02:37<01:17,  1.07it/s]"
     ]
    },
    {
     "name": "stdout",
     "output_type": "stream",
     "text": [
      "\n",
      "Status_code =  200 response content =  b'{\"customerId[31B1FC40DD364EF4A63AA4117164577C]\":\"invoicing fields updated successfully\"}'\n"
     ]
    },
    {
     "name": "stderr",
     "output_type": "stream",
     "text": [
      "\r",
      " 67%|██████▋   | 166/248 [02:38<01:21,  1.00it/s]"
     ]
    },
    {
     "name": "stdout",
     "output_type": "stream",
     "text": [
      "\n",
      "Status_code =  200 response content =  b'{\"customerId[A26E81DE80CA4A7CA57664A12294CB23]\":\"invoicing fields updated successfully\"}'\n"
     ]
    },
    {
     "name": "stderr",
     "output_type": "stream",
     "text": [
      "\r",
      " 67%|██████▋   | 167/248 [02:39<01:17,  1.04it/s]"
     ]
    },
    {
     "name": "stdout",
     "output_type": "stream",
     "text": [
      "\n",
      "Status_code =  200 response content =  b'{\"customerId[2838BF6F7C524032AD445A5E1B8586C9]\":\"invoicing fields updated successfully\"}'\n"
     ]
    },
    {
     "name": "stderr",
     "output_type": "stream",
     "text": [
      "\r",
      " 68%|██████▊   | 168/248 [02:40<01:17,  1.03it/s]"
     ]
    },
    {
     "name": "stdout",
     "output_type": "stream",
     "text": [
      "\n",
      "Status_code =  200 response content =  b'{\"customerId[A6C228E46E05449CBA0119AD3BE3F9C1]\":\"invoicing fields updated successfully\"}'\n"
     ]
    },
    {
     "name": "stderr",
     "output_type": "stream",
     "text": [
      "\r",
      " 68%|██████▊   | 169/248 [02:41<01:11,  1.10it/s]"
     ]
    },
    {
     "name": "stdout",
     "output_type": "stream",
     "text": [
      "\n",
      "Status_code =  200 response content =  b'{\"customerId[AC31711A770D42CA8F2FCEE786712FBC]\":\"invoicing fields updated successfully\"}'\n"
     ]
    },
    {
     "name": "stderr",
     "output_type": "stream",
     "text": [
      "\r",
      " 69%|██████▊   | 170/248 [02:41<01:07,  1.15it/s]"
     ]
    },
    {
     "name": "stdout",
     "output_type": "stream",
     "text": [
      "\n",
      "Status_code =  200 response content =  b'{\"customerId[96BD25D9E4F8427FBBC29EA323440C7F]\":\"invoicing fields updated successfully\"}'\n"
     ]
    },
    {
     "name": "stderr",
     "output_type": "stream",
     "text": [
      "\r",
      " 69%|██████▉   | 171/248 [02:42<01:12,  1.06it/s]"
     ]
    },
    {
     "name": "stdout",
     "output_type": "stream",
     "text": [
      "\n",
      "Status_code =  200 response content =  b'{\"customerId[2F4027B109F54250951F8ACFAF39E7A4]\":\"invoicing fields updated successfully\"}'\n"
     ]
    },
    {
     "name": "stderr",
     "output_type": "stream",
     "text": [
      "\r",
      " 69%|██████▉   | 172/248 [02:43<01:07,  1.12it/s]"
     ]
    },
    {
     "name": "stdout",
     "output_type": "stream",
     "text": [
      "\n",
      "Status_code =  200 response content =  b'{\"customerId[BAA5122F37C04A0FA4F64AF62277AD15]\":\"invoicing fields updated successfully\"}'\n"
     ]
    },
    {
     "name": "stderr",
     "output_type": "stream",
     "text": [
      "\r",
      " 70%|██████▉   | 173/248 [02:44<01:02,  1.20it/s]"
     ]
    },
    {
     "name": "stdout",
     "output_type": "stream",
     "text": [
      "\n",
      "Status_code =  200 response content =  b'{\"customerId[5F55CD0020DE42528928165AD34B1778]\":\"invoicing fields updated successfully\"}'\n"
     ]
    },
    {
     "name": "stderr",
     "output_type": "stream",
     "text": [
      "\r",
      " 70%|███████   | 174/248 [02:45<01:16,  1.03s/it]"
     ]
    },
    {
     "name": "stdout",
     "output_type": "stream",
     "text": [
      "\n",
      "Status_code =  200 response content =  b'{\"customerId[3DCEC9FD68C74E7A9405D7B7D1B7D999]\":\"invoicing fields updated successfully\"}'\n"
     ]
    },
    {
     "name": "stderr",
     "output_type": "stream",
     "text": [
      "\r",
      " 71%|███████   | 175/248 [02:46<01:09,  1.05it/s]"
     ]
    },
    {
     "name": "stdout",
     "output_type": "stream",
     "text": [
      "\n",
      "Status_code =  200 response content =  b'{\"customerId[7E8C59DDA45449A38872029100E46F70]\":\"invoicing fields updated successfully\"}'\n"
     ]
    },
    {
     "name": "stderr",
     "output_type": "stream",
     "text": [
      "\r",
      " 71%|███████   | 176/248 [02:47<01:01,  1.16it/s]"
     ]
    },
    {
     "name": "stdout",
     "output_type": "stream",
     "text": [
      "\n",
      "Status_code =  200 response content =  b'{\"customerId[3645337761F84661A83EF88F03FCCD09]\":\"invoicing fields updated successfully\"}'\n"
     ]
    },
    {
     "name": "stderr",
     "output_type": "stream",
     "text": [
      "\r",
      " 71%|███████▏  | 177/248 [02:48<01:03,  1.11it/s]"
     ]
    },
    {
     "name": "stdout",
     "output_type": "stream",
     "text": [
      "\n",
      "Status_code =  200 response content =  b'{\"customerId[4B4DB3DB13B84EB396AD6094FA4CCD59]\":\"invoicing fields updated successfully\"}'\n"
     ]
    },
    {
     "name": "stderr",
     "output_type": "stream",
     "text": [
      "\r",
      " 72%|███████▏  | 178/248 [02:49<00:59,  1.17it/s]"
     ]
    },
    {
     "name": "stdout",
     "output_type": "stream",
     "text": [
      "\n",
      "Status_code =  200 response content =  b'{\"customerId[CACDCAA2BE254D988CBE2CB426BBD39D]\":\"invoicing fields updated successfully\"}'\n"
     ]
    },
    {
     "name": "stderr",
     "output_type": "stream",
     "text": [
      "\r",
      " 72%|███████▏  | 179/248 [02:49<00:57,  1.19it/s]"
     ]
    },
    {
     "name": "stdout",
     "output_type": "stream",
     "text": [
      "\n",
      "Status_code =  200 response content =  b'{\"customerId[32523FC0BBC04D3A936E21C063AA9137]\":\"invoicing fields updated successfully\"}'\n"
     ]
    },
    {
     "name": "stderr",
     "output_type": "stream",
     "text": [
      "\r",
      " 73%|███████▎  | 180/248 [02:50<00:55,  1.22it/s]"
     ]
    },
    {
     "name": "stdout",
     "output_type": "stream",
     "text": [
      "\n",
      "Status_code =  200 response content =  b'{\"customerId[0B018E0DF88341A49F153EFF4F467093]\":\"invoicing fields updated successfully\"}'\n"
     ]
    },
    {
     "name": "stderr",
     "output_type": "stream",
     "text": [
      "\r",
      " 73%|███████▎  | 181/248 [02:51<01:03,  1.05it/s]"
     ]
    },
    {
     "name": "stdout",
     "output_type": "stream",
     "text": [
      "\n",
      "Status_code =  200 response content =  b'{\"customerId[DB9D4AB462BD4D7AAC1EEAFBD9E8F626]\":\"invoicing fields updated successfully\"}'\n"
     ]
    },
    {
     "name": "stderr",
     "output_type": "stream",
     "text": [
      "\r",
      " 73%|███████▎  | 182/248 [02:52<01:02,  1.05it/s]"
     ]
    },
    {
     "name": "stdout",
     "output_type": "stream",
     "text": [
      "\n",
      "Status_code =  200 response content =  b'{\"customerId[58BC43D3F2DB4E4FB2880E4BB5E9839C]\":\"invoicing fields updated successfully\"}'\n"
     ]
    },
    {
     "name": "stderr",
     "output_type": "stream",
     "text": [
      "\r",
      " 74%|███████▍  | 183/248 [02:53<00:56,  1.14it/s]"
     ]
    },
    {
     "name": "stdout",
     "output_type": "stream",
     "text": [
      "\n",
      "Status_code =  200 response content =  b'{\"customerId[BB734211C0754C42B35CC0A6AEAEB2FE]\":\"invoicing fields updated successfully\"}'\n"
     ]
    },
    {
     "name": "stderr",
     "output_type": "stream",
     "text": [
      "\r",
      " 74%|███████▍  | 184/248 [02:54<00:56,  1.13it/s]"
     ]
    },
    {
     "name": "stdout",
     "output_type": "stream",
     "text": [
      "\n",
      "Status_code =  200 response content =  b'{\"customerId[0CB01BE275BE4C2B9EE189943B7C02F6]\":\"invoicing fields updated successfully\"}'\n"
     ]
    },
    {
     "name": "stderr",
     "output_type": "stream",
     "text": [
      "\r",
      " 75%|███████▍  | 185/248 [02:56<01:09,  1.11s/it]"
     ]
    },
    {
     "name": "stdout",
     "output_type": "stream",
     "text": [
      "\n",
      "Status_code =  200 response content =  b'{\"customerId[BD5E6663C4D744618642615D44F11521]\":\"invoicing fields updated successfully\"}'\n"
     ]
    },
    {
     "name": "stderr",
     "output_type": "stream",
     "text": [
      "\r",
      " 75%|███████▌  | 186/248 [02:57<01:10,  1.13s/it]"
     ]
    },
    {
     "name": "stdout",
     "output_type": "stream",
     "text": [
      "\n",
      "Status_code =  200 response content =  b'{\"customerId[CF0A8E7C30664F718FB77EEDF78037EE]\":\"invoicing fields updated successfully\"}'\n"
     ]
    },
    {
     "name": "stderr",
     "output_type": "stream",
     "text": [
      "\r",
      " 75%|███████▌  | 187/248 [02:58<01:05,  1.07s/it]"
     ]
    },
    {
     "name": "stdout",
     "output_type": "stream",
     "text": [
      "\n",
      "Status_code =  200 response content =  b'{\"customerId[8A950875B3AA4DB49A4772210A28B1C3]\":\"invoicing fields updated successfully\"}'\n"
     ]
    },
    {
     "name": "stderr",
     "output_type": "stream",
     "text": [
      "\r",
      " 76%|███████▌  | 188/248 [02:58<00:58,  1.03it/s]"
     ]
    },
    {
     "name": "stdout",
     "output_type": "stream",
     "text": [
      "\n",
      "Status_code =  200 response content =  b'{\"customerId[F8DC86D424994A3EB47E17CDB846EC4A]\":\"invoicing fields updated successfully\"}'\n"
     ]
    },
    {
     "name": "stderr",
     "output_type": "stream",
     "text": [
      "\r",
      " 76%|███████▌  | 189/248 [02:59<00:52,  1.13it/s]"
     ]
    },
    {
     "name": "stdout",
     "output_type": "stream",
     "text": [
      "\n",
      "Status_code =  200 response content =  b'{\"customerId[15347C7458CB43BDB0E47AF79D3C23B0]\":\"invoicing fields updated successfully\"}'\n"
     ]
    },
    {
     "name": "stderr",
     "output_type": "stream",
     "text": [
      "\r",
      " 77%|███████▋  | 190/248 [03:00<00:48,  1.19it/s]"
     ]
    },
    {
     "name": "stdout",
     "output_type": "stream",
     "text": [
      "\n",
      "Status_code =  200 response content =  b'{\"customerId[2B24173B06FA4A94818AFB311073BB36]\":\"invoicing fields updated successfully\"}'\n"
     ]
    },
    {
     "name": "stderr",
     "output_type": "stream",
     "text": [
      "\r",
      " 77%|███████▋  | 191/248 [03:01<00:51,  1.11it/s]"
     ]
    },
    {
     "name": "stdout",
     "output_type": "stream",
     "text": [
      "\n",
      "Status_code =  200 response content =  b'{\"customerId[0DC5A5AF6B874619B8BF5FB48B3884F2]\":\"invoicing fields updated successfully\"}'\n"
     ]
    },
    {
     "name": "stderr",
     "output_type": "stream",
     "text": [
      "\r",
      " 77%|███████▋  | 192/248 [03:02<00:47,  1.17it/s]"
     ]
    },
    {
     "name": "stdout",
     "output_type": "stream",
     "text": [
      "\n",
      "Status_code =  200 response content =  b'{\"customerId[661E9FEF69A444C5B83887425377C4F5]\":\"invoicing fields updated successfully\"}'\n"
     ]
    },
    {
     "name": "stderr",
     "output_type": "stream",
     "text": [
      "\r",
      " 78%|███████▊  | 193/248 [03:02<00:46,  1.18it/s]"
     ]
    },
    {
     "name": "stdout",
     "output_type": "stream",
     "text": [
      "\n",
      "Status_code =  200 response content =  b'{\"customerId[2E844C56728C48CEA39C0FE12E356E9F]\":\"invoicing fields updated successfully\"}'\n"
     ]
    },
    {
     "name": "stderr",
     "output_type": "stream",
     "text": [
      "\r",
      " 78%|███████▊  | 194/248 [03:03<00:43,  1.24it/s]"
     ]
    },
    {
     "name": "stdout",
     "output_type": "stream",
     "text": [
      "\n",
      "Status_code =  200 response content =  b'{\"customerId[49693702359E4BBCA1EFF9F517DE3AEE]\":\"invoicing fields updated successfully\"}'\n"
     ]
    },
    {
     "name": "stderr",
     "output_type": "stream",
     "text": [
      "\r",
      " 79%|███████▊  | 195/248 [03:04<00:44,  1.20it/s]"
     ]
    },
    {
     "name": "stdout",
     "output_type": "stream",
     "text": [
      "\n",
      "Status_code =  200 response content =  b'{\"customerId[D3AAFEB1B9934176BA34B941C26F7FD4]\":\"invoicing fields updated successfully\"}'\n"
     ]
    },
    {
     "name": "stderr",
     "output_type": "stream",
     "text": [
      "\r",
      " 79%|███████▉  | 196/248 [03:05<00:45,  1.15it/s]"
     ]
    },
    {
     "name": "stdout",
     "output_type": "stream",
     "text": [
      "\n",
      "Status_code =  200 response content =  b'{\"customerId[7697274A7A324D478AD7987DEE9E86DF]\":\"invoicing fields updated successfully\"}'\n"
     ]
    },
    {
     "name": "stderr",
     "output_type": "stream",
     "text": [
      "\r",
      " 79%|███████▉  | 197/248 [03:06<00:42,  1.20it/s]"
     ]
    },
    {
     "name": "stdout",
     "output_type": "stream",
     "text": [
      "\n",
      "Status_code =  200 response content =  b'{\"customerId[215DFC47515A4C3AA73BA8ACAA482AB3]\":\"invoicing fields updated successfully\"}'\n"
     ]
    },
    {
     "name": "stderr",
     "output_type": "stream",
     "text": [
      "\r",
      " 80%|███████▉  | 198/248 [03:07<00:45,  1.11it/s]"
     ]
    },
    {
     "name": "stdout",
     "output_type": "stream",
     "text": [
      "\n",
      "Status_code =  200 response content =  b'{\"customerId[12D72017B99A42268AC88D15D4480EF7]\":\"invoicing fields updated successfully\"}'\n"
     ]
    },
    {
     "name": "stderr",
     "output_type": "stream",
     "text": [
      "\r",
      " 80%|████████  | 199/248 [03:08<00:44,  1.10it/s]"
     ]
    },
    {
     "name": "stdout",
     "output_type": "stream",
     "text": [
      "\n",
      "Status_code =  200 response content =  b'{\"customerId[640211B96F604BD981A4EDB0CC99CB3C]\":\"invoicing fields updated successfully\"}'\n"
     ]
    },
    {
     "name": "stderr",
     "output_type": "stream",
     "text": [
      "\r",
      " 81%|████████  | 200/248 [03:09<00:46,  1.04it/s]"
     ]
    },
    {
     "name": "stdout",
     "output_type": "stream",
     "text": [
      "\n",
      "Status_code =  200 response content =  b'{\"customerId[51DA50790C1D4A3DB38E8558C8EF2D11]\":\"invoicing fields updated successfully\"}'\n"
     ]
    },
    {
     "name": "stderr",
     "output_type": "stream",
     "text": [
      "\r",
      " 81%|████████  | 201/248 [03:10<00:49,  1.05s/it]"
     ]
    },
    {
     "name": "stdout",
     "output_type": "stream",
     "text": [
      "\n",
      "Status_code =  200 response content =  b'{\"customerId[B33A252BEF0746D4A976C9D293764623]\":\"invoicing fields updated successfully\"}'\n"
     ]
    },
    {
     "name": "stderr",
     "output_type": "stream",
     "text": [
      "\r",
      " 81%|████████▏ | 202/248 [03:11<00:45,  1.02it/s]"
     ]
    },
    {
     "name": "stdout",
     "output_type": "stream",
     "text": [
      "\n",
      "Status_code =  200 response content =  b'{\"customerId[1CD533BE5597451F8309513A6ABD97AC]\":\"invoicing fields updated successfully\"}'\n"
     ]
    },
    {
     "name": "stderr",
     "output_type": "stream",
     "text": [
      "\r",
      " 82%|████████▏ | 203/248 [03:12<00:41,  1.07it/s]"
     ]
    },
    {
     "name": "stdout",
     "output_type": "stream",
     "text": [
      "\n",
      "Status_code =  200 response content =  b'{\"customerId[164D3403EAAC46A5BB4EF83E0CC46F91]\":\"invoicing fields updated successfully\"}'\n"
     ]
    },
    {
     "name": "stderr",
     "output_type": "stream",
     "text": [
      "\r",
      " 82%|████████▏ | 204/248 [03:12<00:38,  1.15it/s]"
     ]
    },
    {
     "name": "stdout",
     "output_type": "stream",
     "text": [
      "\n",
      "Status_code =  200 response content =  b'{\"customerId[82CDCFB55E4B4A87B795E8F7DB89614A]\":\"invoicing fields updated successfully\"}'\n"
     ]
    },
    {
     "name": "stderr",
     "output_type": "stream",
     "text": [
      "\r",
      " 83%|████████▎ | 205/248 [03:13<00:35,  1.21it/s]"
     ]
    },
    {
     "name": "stdout",
     "output_type": "stream",
     "text": [
      "\n",
      "Status_code =  200 response content =  b'{\"customerId[322A372B606F4E089BB58F864EDE4CAB]\":\"invoicing fields updated successfully\"}'\n"
     ]
    },
    {
     "name": "stderr",
     "output_type": "stream",
     "text": [
      "\r",
      " 83%|████████▎ | 206/248 [03:14<00:32,  1.27it/s]"
     ]
    },
    {
     "name": "stdout",
     "output_type": "stream",
     "text": [
      "\n",
      "Status_code =  200 response content =  b'{\"customerId[2BC3C2C0BC9F46DBB5EC3801A89DB5EB]\":\"invoicing fields updated successfully\"}'\n"
     ]
    },
    {
     "name": "stderr",
     "output_type": "stream",
     "text": [
      "\r",
      " 83%|████████▎ | 207/248 [03:15<00:31,  1.29it/s]"
     ]
    },
    {
     "name": "stdout",
     "output_type": "stream",
     "text": [
      "\n",
      "Status_code =  200 response content =  b'{\"customerId[B887F7B2BB88493AB4F91FC2AD150EA5]\":\"invoicing fields updated successfully\"}'\n"
     ]
    },
    {
     "name": "stderr",
     "output_type": "stream",
     "text": [
      "\r",
      " 84%|████████▍ | 208/248 [03:15<00:31,  1.25it/s]"
     ]
    },
    {
     "name": "stdout",
     "output_type": "stream",
     "text": [
      "\n",
      "Status_code =  200 response content =  b'{\"customerId[DD8733A965994F3794BC9BC93A39E034]\":\"invoicing fields updated successfully\"}'\n"
     ]
    },
    {
     "name": "stderr",
     "output_type": "stream",
     "text": [
      "\r",
      " 84%|████████▍ | 209/248 [03:16<00:30,  1.30it/s]"
     ]
    },
    {
     "name": "stdout",
     "output_type": "stream",
     "text": [
      "\n",
      "Status_code =  200 response content =  b'{\"customerId[E09CF6DC4C90435DB312B48D0B457F78]\":\"invoicing fields updated successfully\"}'\n"
     ]
    },
    {
     "name": "stderr",
     "output_type": "stream",
     "text": [
      "\r",
      " 85%|████████▍ | 210/248 [03:17<00:28,  1.32it/s]"
     ]
    },
    {
     "name": "stdout",
     "output_type": "stream",
     "text": [
      "\n",
      "Status_code =  200 response content =  b'{\"customerId[6DCB12A2F2694532812D5A049C7EFDDD]\":\"invoicing fields updated successfully\"}'\n"
     ]
    },
    {
     "name": "stderr",
     "output_type": "stream",
     "text": [
      "\r",
      " 85%|████████▌ | 211/248 [03:18<00:28,  1.29it/s]"
     ]
    },
    {
     "name": "stdout",
     "output_type": "stream",
     "text": [
      "\n",
      "Status_code =  200 response content =  b'{\"customerId[50EE8FB60D764FD28B69862FAFD92468]\":\"invoicing fields updated successfully\"}'\n"
     ]
    },
    {
     "name": "stderr",
     "output_type": "stream",
     "text": [
      "\r",
      " 85%|████████▌ | 212/248 [03:19<00:28,  1.25it/s]"
     ]
    },
    {
     "name": "stdout",
     "output_type": "stream",
     "text": [
      "\n",
      "Status_code =  200 response content =  b'{\"customerId[C8E99570CD9A4F938872FC43D379B774]\":\"invoicing fields updated successfully\"}'\n"
     ]
    },
    {
     "name": "stderr",
     "output_type": "stream",
     "text": [
      "\r",
      " 86%|████████▌ | 213/248 [03:19<00:27,  1.26it/s]"
     ]
    },
    {
     "name": "stdout",
     "output_type": "stream",
     "text": [
      "\n",
      "Status_code =  200 response content =  b'{\"customerId[72FCE0CC0EB7429989F89D061331826F]\":\"invoicing fields updated successfully\"}'\n"
     ]
    },
    {
     "name": "stderr",
     "output_type": "stream",
     "text": [
      "\r",
      " 86%|████████▋ | 214/248 [03:20<00:26,  1.27it/s]"
     ]
    },
    {
     "name": "stdout",
     "output_type": "stream",
     "text": [
      "\n",
      "Status_code =  200 response content =  b'{\"customerId[B74D04B6824545DBBCFD77E258C6BB64]\":\"invoicing fields updated successfully\"}'\n"
     ]
    },
    {
     "name": "stderr",
     "output_type": "stream",
     "text": [
      "\r",
      " 87%|████████▋ | 215/248 [03:21<00:25,  1.28it/s]"
     ]
    },
    {
     "name": "stdout",
     "output_type": "stream",
     "text": [
      "\n",
      "Status_code =  200 response content =  b'{\"customerId[3C877A3B01014C3A9B2B8537DBFCE5E4]\":\"invoicing fields updated successfully\"}'\n"
     ]
    },
    {
     "name": "stderr",
     "output_type": "stream",
     "text": [
      "\r",
      " 87%|████████▋ | 216/248 [03:22<00:24,  1.30it/s]"
     ]
    },
    {
     "name": "stdout",
     "output_type": "stream",
     "text": [
      "\n",
      "Status_code =  200 response content =  b'{\"customerId[7F2DE10D89924929BA1305FD3DA6A2A1]\":\"invoicing fields updated successfully\"}'\n"
     ]
    },
    {
     "name": "stderr",
     "output_type": "stream",
     "text": [
      "\r",
      " 88%|████████▊ | 217/248 [03:22<00:24,  1.29it/s]"
     ]
    },
    {
     "name": "stdout",
     "output_type": "stream",
     "text": [
      "\n",
      "Status_code =  200 response content =  b'{\"customerId[B9020C93E2A5490BAF00550F94F5B673]\":\"invoicing fields updated successfully\"}'\n"
     ]
    },
    {
     "name": "stderr",
     "output_type": "stream",
     "text": [
      "\r",
      " 88%|████████▊ | 218/248 [03:23<00:23,  1.30it/s]"
     ]
    },
    {
     "name": "stdout",
     "output_type": "stream",
     "text": [
      "\n",
      "Status_code =  200 response content =  b'{\"customerId[621C558185EF4DEFAAC18EA7B4ACDD00]\":\"invoicing fields updated successfully\"}'\n"
     ]
    },
    {
     "name": "stderr",
     "output_type": "stream",
     "text": [
      "\r",
      " 88%|████████▊ | 219/248 [03:24<00:22,  1.31it/s]"
     ]
    },
    {
     "name": "stdout",
     "output_type": "stream",
     "text": [
      "\n",
      "Status_code =  200 response content =  b'{\"customerId[05D7BACC8ADD4B1A96F1855F7FBF8059]\":\"invoicing fields updated successfully\"}'\n"
     ]
    },
    {
     "name": "stderr",
     "output_type": "stream",
     "text": [
      "\r",
      " 89%|████████▊ | 220/248 [03:25<00:21,  1.30it/s]"
     ]
    },
    {
     "name": "stdout",
     "output_type": "stream",
     "text": [
      "\n",
      "Status_code =  200 response content =  b'{\"customerId[76342EC6A6DA4685926DB20267AB6D86]\":\"invoicing fields updated successfully\"}'\n"
     ]
    },
    {
     "name": "stderr",
     "output_type": "stream",
     "text": [
      "\r",
      " 89%|████████▉ | 221/248 [03:25<00:20,  1.33it/s]"
     ]
    },
    {
     "name": "stdout",
     "output_type": "stream",
     "text": [
      "\n",
      "Status_code =  200 response content =  b'{\"customerId[7E14200DDA9B40EFBD20498BC1E52943]\":\"invoicing fields updated successfully\"}'\n"
     ]
    },
    {
     "name": "stderr",
     "output_type": "stream",
     "text": [
      "\r",
      " 90%|████████▉ | 222/248 [03:26<00:20,  1.30it/s]"
     ]
    },
    {
     "name": "stdout",
     "output_type": "stream",
     "text": [
      "\n",
      "Status_code =  200 response content =  b'{\"customerId[4B2D5B7A9F5C496F9716FFEC328A92AD]\":\"invoicing fields updated successfully\"}'\n"
     ]
    },
    {
     "name": "stderr",
     "output_type": "stream",
     "text": [
      "\r",
      " 90%|████████▉ | 223/248 [03:27<00:19,  1.28it/s]"
     ]
    },
    {
     "name": "stdout",
     "output_type": "stream",
     "text": [
      "\n",
      "Status_code =  200 response content =  b'{\"customerId[F56D1EFB03344501A6F628A227632387]\":\"invoicing fields updated successfully\"}'\n"
     ]
    },
    {
     "name": "stderr",
     "output_type": "stream",
     "text": [
      "\r",
      " 90%|█████████ | 224/248 [03:28<00:21,  1.09it/s]"
     ]
    },
    {
     "name": "stdout",
     "output_type": "stream",
     "text": [
      "\n",
      "Status_code =  200 response content =  b'{\"customerId[30A9553DB60541E3AE619738FBF38FE4]\":\"invoicing fields updated successfully\"}'\n"
     ]
    },
    {
     "name": "stderr",
     "output_type": "stream",
     "text": [
      "\r",
      " 91%|█████████ | 225/248 [03:29<00:20,  1.15it/s]"
     ]
    },
    {
     "name": "stdout",
     "output_type": "stream",
     "text": [
      "\n",
      "Status_code =  200 response content =  b'{\"customerId[F321B23D70E8489297F0BC90556D8FBF]\":\"invoicing fields updated successfully\"}'\n"
     ]
    },
    {
     "name": "stderr",
     "output_type": "stream",
     "text": [
      "\r",
      " 91%|█████████ | 226/248 [03:30<00:18,  1.18it/s]"
     ]
    },
    {
     "name": "stdout",
     "output_type": "stream",
     "text": [
      "\n",
      "Status_code =  200 response content =  b'{\"customerId[21C7F72E2D2F4D3CB6F75B9B02DCDE5D]\":\"invoicing fields updated successfully\"}'\n"
     ]
    },
    {
     "name": "stderr",
     "output_type": "stream",
     "text": [
      "\r",
      " 92%|█████████▏| 227/248 [03:31<00:17,  1.17it/s]"
     ]
    },
    {
     "name": "stdout",
     "output_type": "stream",
     "text": [
      "\n",
      "Status_code =  200 response content =  b'{\"customerId[73EA3E9BAE7141F4B07F78B6A6115E24]\":\"invoicing fields updated successfully\"}'\n"
     ]
    },
    {
     "name": "stderr",
     "output_type": "stream",
     "text": [
      "\r",
      " 92%|█████████▏| 228/248 [03:32<00:17,  1.13it/s]"
     ]
    },
    {
     "name": "stdout",
     "output_type": "stream",
     "text": [
      "\n",
      "Status_code =  200 response content =  b'{\"customerId[2BB6229D69A042BF96839B0CE8C3BAAD]\":\"invoicing fields updated successfully\"}'\n"
     ]
    },
    {
     "name": "stderr",
     "output_type": "stream",
     "text": [
      "\r",
      " 92%|█████████▏| 229/248 [03:32<00:16,  1.14it/s]"
     ]
    },
    {
     "name": "stdout",
     "output_type": "stream",
     "text": [
      "\n",
      "Status_code =  200 response content =  b'{\"customerId[18259555D961465CB774FF9F1F2E51B5]\":\"invoicing fields updated successfully\"}'\n"
     ]
    },
    {
     "name": "stderr",
     "output_type": "stream",
     "text": [
      "\r",
      " 93%|█████████▎| 230/248 [03:33<00:15,  1.18it/s]"
     ]
    },
    {
     "name": "stdout",
     "output_type": "stream",
     "text": [
      "\n",
      "Status_code =  200 response content =  b'{\"customerId[04C08253F6304409908177B9F18EAAC7]\":\"invoicing fields updated successfully\"}'\n"
     ]
    },
    {
     "name": "stderr",
     "output_type": "stream",
     "text": [
      "\r",
      " 93%|█████████▎| 231/248 [03:34<00:14,  1.17it/s]"
     ]
    },
    {
     "name": "stdout",
     "output_type": "stream",
     "text": [
      "\n",
      "Status_code =  200 response content =  b'{\"customerId[CE9B2E5341544E90804CC0E74C31C462]\":\"invoicing fields updated successfully\"}'\n"
     ]
    },
    {
     "name": "stderr",
     "output_type": "stream",
     "text": [
      "\r",
      " 94%|█████████▎| 232/248 [03:35<00:13,  1.17it/s]"
     ]
    },
    {
     "name": "stdout",
     "output_type": "stream",
     "text": [
      "\n",
      "Status_code =  200 response content =  b'{\"customerId[6722B6AB51614FEBA72889FA1B5840CF]\":\"invoicing fields updated successfully\"}'\n"
     ]
    },
    {
     "name": "stderr",
     "output_type": "stream",
     "text": [
      "\r",
      " 94%|█████████▍| 233/248 [03:36<00:12,  1.19it/s]"
     ]
    },
    {
     "name": "stdout",
     "output_type": "stream",
     "text": [
      "\n",
      "Status_code =  200 response content =  b'{\"customerId[F0E2B2BAD2694A4A96F78AC4EC1A613A]\":\"invoicing fields updated successfully\"}'\n"
     ]
    },
    {
     "name": "stderr",
     "output_type": "stream",
     "text": [
      "\r",
      " 94%|█████████▍| 234/248 [03:37<00:11,  1.18it/s]"
     ]
    },
    {
     "name": "stdout",
     "output_type": "stream",
     "text": [
      "\n",
      "Status_code =  200 response content =  b'{\"customerId[D3CACCBD79784463A452DF5C267694D9]\":\"invoicing fields updated successfully\"}'\n"
     ]
    },
    {
     "name": "stderr",
     "output_type": "stream",
     "text": [
      "\r",
      " 95%|█████████▍| 235/248 [03:38<00:11,  1.16it/s]"
     ]
    },
    {
     "name": "stdout",
     "output_type": "stream",
     "text": [
      "\n",
      "Status_code =  200 response content =  b'{\"customerId[693FDA97DBEF429283EEAFB13BF3D175]\":\"invoicing fields updated successfully\"}'\n"
     ]
    },
    {
     "name": "stderr",
     "output_type": "stream",
     "text": [
      "\r",
      " 95%|█████████▌| 236/248 [03:39<00:10,  1.11it/s]"
     ]
    },
    {
     "name": "stdout",
     "output_type": "stream",
     "text": [
      "\n",
      "Status_code =  200 response content =  b'{\"customerId[C51EA336A6414972A78F55A2FE1D4D1B]\":\"invoicing fields updated successfully\"}'\n"
     ]
    },
    {
     "name": "stderr",
     "output_type": "stream",
     "text": [
      "\r",
      " 96%|█████████▌| 237/248 [03:39<00:09,  1.15it/s]"
     ]
    },
    {
     "name": "stdout",
     "output_type": "stream",
     "text": [
      "\n",
      "Status_code =  200 response content =  b'{\"customerId[DD9E12C53671490CA8D1E3DBA84720A7]\":\"invoicing fields updated successfully\"}'\n"
     ]
    },
    {
     "name": "stderr",
     "output_type": "stream",
     "text": [
      "\r",
      " 96%|█████████▌| 238/248 [03:41<00:10,  1.03s/it]"
     ]
    },
    {
     "name": "stdout",
     "output_type": "stream",
     "text": [
      "\n",
      "Status_code =  200 response content =  b'{\"customerId[248EB6F670E54F00876E894AF495CE52]\":\"invoicing fields updated successfully\"}'\n"
     ]
    },
    {
     "name": "stderr",
     "output_type": "stream",
     "text": [
      "\r",
      " 96%|█████████▋| 239/248 [03:42<00:09,  1.03s/it]"
     ]
    },
    {
     "name": "stdout",
     "output_type": "stream",
     "text": [
      "\n",
      "Status_code =  200 response content =  b'{\"customerId[5ACE124542D14D1E8DA231C377D02A5C]\":\"invoicing fields updated successfully\"}'\n"
     ]
    },
    {
     "name": "stderr",
     "output_type": "stream",
     "text": [
      "\r",
      " 97%|█████████▋| 240/248 [03:43<00:08,  1.06s/it]"
     ]
    },
    {
     "name": "stdout",
     "output_type": "stream",
     "text": [
      "\n",
      "Status_code =  200 response content =  b'{\"customerId[68B003D8A1D2402D932017254977955C]\":\"invoicing fields updated successfully\"}'\n"
     ]
    },
    {
     "name": "stderr",
     "output_type": "stream",
     "text": [
      "\r",
      " 97%|█████████▋| 241/248 [03:44<00:07,  1.09s/it]"
     ]
    },
    {
     "name": "stdout",
     "output_type": "stream",
     "text": [
      "\n",
      "Status_code =  200 response content =  b'{\"customerId[694225FDECD14B6FAEBB3C6A2DD7645A]\":\"invoicing fields updated successfully\"}'\n"
     ]
    },
    {
     "name": "stderr",
     "output_type": "stream",
     "text": [
      "\r",
      " 98%|█████████▊| 242/248 [03:45<00:06,  1.03s/it]"
     ]
    },
    {
     "name": "stdout",
     "output_type": "stream",
     "text": [
      "\n",
      "Status_code =  200 response content =  b'{\"customerId[E3BF70AA2157412CB993433E9E36F926]\":\"invoicing fields updated successfully\"}'\n"
     ]
    },
    {
     "name": "stderr",
     "output_type": "stream",
     "text": [
      "\r",
      " 98%|█████████▊| 243/248 [03:46<00:05,  1.11s/it]"
     ]
    },
    {
     "name": "stdout",
     "output_type": "stream",
     "text": [
      "\n",
      "Status_code =  200 response content =  b'{\"customerId[35F9B902E4AA4A2EBB92F3A655AA58E9]\":\"invoicing fields updated successfully\"}'\n"
     ]
    },
    {
     "name": "stderr",
     "output_type": "stream",
     "text": [
      "\r",
      " 98%|█████████▊| 244/248 [03:47<00:04,  1.07s/it]"
     ]
    },
    {
     "name": "stdout",
     "output_type": "stream",
     "text": [
      "\n",
      "Status_code =  200 response content =  b'{\"customerId[9AD6ECA3324E47F1AE0BF817C6C12B4B]\":\"invoicing fields updated successfully\"}'\n"
     ]
    },
    {
     "name": "stderr",
     "output_type": "stream",
     "text": [
      "\r",
      " 99%|█████████▉| 245/248 [03:48<00:03,  1.03s/it]"
     ]
    },
    {
     "name": "stdout",
     "output_type": "stream",
     "text": [
      "\n",
      "Status_code =  200 response content =  b'{\"customerId[75DB67DEBEF2443198627EB862E2169F]\":\"invoicing fields updated successfully\"}'\n"
     ]
    },
    {
     "name": "stderr",
     "output_type": "stream",
     "text": [
      "\r",
      " 99%|█████████▉| 246/248 [03:49<00:01,  1.03it/s]"
     ]
    },
    {
     "name": "stdout",
     "output_type": "stream",
     "text": [
      "\n",
      "Status_code =  200 response content =  b'{\"customerId[AF44A55F98E84917AA09EE2DBD2E7271]\":\"invoicing fields updated successfully\"}'\n"
     ]
    },
    {
     "name": "stderr",
     "output_type": "stream",
     "text": [
      "\r",
      "100%|█████████▉| 247/248 [03:50<00:00,  1.08it/s]"
     ]
    },
    {
     "name": "stdout",
     "output_type": "stream",
     "text": [
      "\n",
      "Status_code =  200 response content =  b'{\"customerId[54A67E10D8F945CA80B7EC7C7177EB1A]\":\"invoicing fields updated successfully\"}'\n"
     ]
    },
    {
     "name": "stderr",
     "output_type": "stream",
     "text": [
      "100%|██████████| 248/248 [03:51<00:00,  1.07it/s]"
     ]
    },
    {
     "name": "stdout",
     "output_type": "stream",
     "text": [
      "\n",
      "Status_code =  200 response content =  b'{\"customerId[D3E78FA9809A482A9AC05B20E3460616]\":\"invoicing fields updated successfully\"}'\n"
     ]
    },
    {
     "name": "stderr",
     "output_type": "stream",
     "text": [
      "\n"
     ]
    }
   ],
   "source": [
    "v_externalId = []\n",
    "v_companyName = []\n",
    "v_login = []\n",
    "v_city = []\n",
    "v_phoneNumber = []\n",
    "v_clientId_append = []\n",
    "v_clientId = []\n",
    "\n",
    "for i in tqdm(record.index):\n",
    "    data = json.dumps(json.loads(record.loc[i].to_json(orient='index')), indent=4)   \n",
    "    data = json.loads(data)\n",
    "    post_new_account =eval(post_url_new_account)\n",
    "    response = requests.post(post_new_account,json=data)\n",
    "    #print(data)\n",
    "    #print ('Status_code = ',response.status_code,'response content = ',response.content)   \n",
    "    if response.status_code == 200:  ## 200 OK\tSuccess on GET, PUT, or POST. Returned for a successful response\n",
    "        get_customerId = json.loads(response.content)\n",
    "        customerId = get_customerId['content']['clientId']        \n",
    "        v_clientId_append.append(customerId)\n",
    "        if(customerId and not customerId.isspace()):\n",
    "            #print(\"The string is not empty\",customerId,' Login ', [record.loc[i]['login']], ' Company Name ', [record.loc[i]['companyName']])\n",
    "            if data['VAT_NUMBER'] is None:                  \n",
    "                if data['FEDERAL_TAX_ID'] is None:\n",
    "                     data_sync_netsuite = [{\n",
    "                          \"customerId\":  customerId\n",
    "                          ,\"TAX_SITUATION\": data['TAX_SITUATION']                          \n",
    "                          }]\n",
    "                else:\n",
    "                    data_sync_netsuite = [{\n",
    "                          \"customerId\":  customerId\n",
    "                          ,\"TAX_SITUATION\": data['TAX_SITUATION']\n",
    "                          ,\"FEDERAL_TAX_ID\":data['FEDERAL_TAX_ID']  \n",
    "                          }]\n",
    "            else:\n",
    "                if data['FEDERAL_TAX_ID'] is None:\n",
    "                    data_sync_netsuite = [{\n",
    "                          \"customerId\":  customerId\n",
    "                          ,\"TAX_SITUATION\": data['TAX_SITUATION']\n",
    "                          ,\"VAT_NUMBER\": data['VAT_NUMBER']\n",
    "                          }]\n",
    "                else: \n",
    "                    data_sync_netsuite = [{\n",
    "                          \"customerId\":  customerId\n",
    "                          ,\"TAX_SITUATION\": data['TAX_SITUATION']   ## Mandatory field in QSP\n",
    "                          ,\"VAT_NUMBER\": data['VAT_NUMBER']\n",
    "                          ,\"FEDERAL_TAX_ID\":data['FEDERAL_TAX_ID']\n",
    "                          }] \n",
    "            post_sync_netsuite =eval(post_url_sync_netsuite)\n",
    "            response_sync_netsuite = requests.post(post_sync_netsuite,json=data_sync_netsuite)\n",
    "            if response_sync_netsuite.status_code == 200:\n",
    "                print()\n",
    "                v_clientId = v_clientId_append\n",
    "                v_externalId += [record.loc[i]['externalId']]\n",
    "                v_companyName += [record.loc[i]['companyName']]\n",
    "                v_login += record.loc[i]['login'],\n",
    "                v_city += [record.loc[i]['city']]\n",
    "                v_phoneNumber += [record.loc[i]['phoneNumber']]\n",
    "                print ('Status_code = ',response_sync_netsuite.status_code,'response content = ',response_sync_netsuite.content)\n",
    "    if response.status_code == 400:\n",
    "        print ( 'Status_code Customer API= ',response.status_code,'response content = ',response.content, ' CompanyName ',record.loc[i]['companyName']\n",
    "                ,' Status_code Netsuite = ',response_sync_netsuite.status_code, 'response content = ',response.content)\n",
    "        break\n",
    "                \n",
    "df_create = pd.DataFrame({'clientId':v_clientId, \n",
    "    'externalId':v_externalId, \n",
    "    'companyName':v_companyName, \n",
    "    'login':v_login,\n",
    "    'city':v_city, \n",
    "    'phoneNumber':v_phoneNumber})\n",
    "\n",
    "today = datetime.now()\n",
    "writer = pd.ExcelWriter(f'output/recorded_clients{today.year}_{today.month}_{today.day}_{today.hour}_{today.minute}_{today.second}.xlsx')\n",
    "df_create.to_excel(writer, sheet_name='Sheet1')  \n",
    "writer.save()"
   ]
  },
  {
   "cell_type": "code",
   "execution_count": null,
   "id": "8ca3d89e",
   "metadata": {},
   "outputs": [],
   "source": []
  }
 ],
 "metadata": {
  "kernelspec": {
   "display_name": "Python 3 (ipykernel)",
   "language": "python",
   "name": "python3"
  },
  "language_info": {
   "codemirror_mode": {
    "name": "ipython",
    "version": 3
   },
   "file_extension": ".py",
   "mimetype": "text/x-python",
   "name": "python",
   "nbconvert_exporter": "python",
   "pygments_lexer": "ipython3",
   "version": "3.9.12"
  },
  "vscode": {
   "interpreter": {
    "hash": "369f2c481f4da34e4445cda3fffd2e751bd1c4d706f27375911949ba6bb62e1c"
   }
  }
 },
 "nbformat": 4,
 "nbformat_minor": 5
}
